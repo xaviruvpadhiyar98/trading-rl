{
 "cells": [
  {
   "cell_type": "code",
   "execution_count": 2,
   "metadata": {},
   "outputs": [],
   "source": [
    "import numpy as np\n",
    "import polars as pl\n",
    "from pathlib import Path"
   ]
  },
  {
   "cell_type": "code",
   "execution_count": 4,
   "metadata": {},
   "outputs": [
    {
     "data": {
      "text/html": [
       "<div><style>\n",
       ".dataframe > thead > tr,\n",
       ".dataframe > tbody > tr {\n",
       "  text-align: right;\n",
       "  white-space: pre-wrap;\n",
       "}\n",
       "</style>\n",
       "<small>shape: (4_971, 3)</small><table border=\"1\" class=\"dataframe\"><thead><tr><th>index</th><th>Close</th><th>Datetime</th></tr><tr><td>i64</td><td>list[f64]</td><td>datetime[ns, UTC]</td></tr></thead><tbody><tr><td>0</td><td>[2464.649902, 2481.449951, … 2519.0]</td><td>2021-01-19 07:45:00 UTC</td></tr><tr><td>1</td><td>[2481.449951, 2520.550049, … 2511.149902]</td><td>2021-01-19 08:45:00 UTC</td></tr><tr><td>2</td><td>[2520.550049, 2509.949951, … 2517.0]</td><td>2021-01-19 09:45:00 UTC</td></tr><tr><td>3</td><td>[2509.949951, 2514.550049, … 2535.899902]</td><td>2021-01-20 03:45:00 UTC</td></tr><tr><td>4</td><td>[2514.550049, 2508.899902, … 2533.850098]</td><td>2021-01-20 04:45:00 UTC</td></tr><tr><td>5</td><td>[2508.899902, 2511.850098, … 2536.600098]</td><td>2021-01-20 05:45:00 UTC</td></tr><tr><td>6</td><td>[2511.850098, 2485.0, … 2534.100098]</td><td>2021-01-20 06:45:00 UTC</td></tr><tr><td>7</td><td>[2485.0, 2462.300049, … 2543.100098]</td><td>2021-01-20 07:45:00 UTC</td></tr><tr><td>8</td><td>[2462.300049, 2459.699951, … 2537.300049]</td><td>2021-01-20 08:45:00 UTC</td></tr><tr><td>9</td><td>[2459.699951, 2454.050049, … 2541.699951]</td><td>2021-01-20 09:45:00 UTC</td></tr><tr><td>10</td><td>[2454.050049, 2456.949951, … 2634.0]</td><td>2021-01-21 03:45:00 UTC</td></tr><tr><td>11</td><td>[2456.949951, 2469.25, … 2651.949951]</td><td>2021-01-21 04:45:00 UTC</td></tr><tr><td>&hellip;</td><td>&hellip;</td><td>&hellip;</td></tr><tr><td>4959</td><td>[1546.0, 1543.0, … 1325.349976]</td><td>2023-12-07 05:45:00 UTC</td></tr><tr><td>4960</td><td>[1543.0, 1545.5, … 1324.800049]</td><td>2023-12-07 06:45:00 UTC</td></tr><tr><td>4961</td><td>[1545.5, 1545.0, … 1320.0]</td><td>2023-12-07 07:45:00 UTC</td></tr><tr><td>4962</td><td>[1545.0, 1545.0, … 1321.0]</td><td>2023-12-07 08:45:00 UTC</td></tr><tr><td>4963</td><td>[1545.0, 1544.25, … 1320.0]</td><td>2023-12-07 09:45:00 UTC</td></tr><tr><td>4964</td><td>[1544.25, 1546.300049, … 1309.150024]</td><td>2023-12-08 03:45:00 UTC</td></tr><tr><td>4965</td><td>[1546.300049, 1570.949951, … 1306.25]</td><td>2023-12-08 04:45:00 UTC</td></tr><tr><td>4966</td><td>[1570.949951, 1575.25, … 1296.800049]</td><td>2023-12-08 05:45:00 UTC</td></tr><tr><td>4967</td><td>[1575.25, 1510.0, … 1301.150024]</td><td>2023-12-08 06:45:00 UTC</td></tr><tr><td>4968</td><td>[1510.0, 1497.050049, … 1303.400024]</td><td>2023-12-08 07:45:00 UTC</td></tr><tr><td>4969</td><td>[1497.050049, 1478.699951, … 1314.349976]</td><td>2023-12-08 08:45:00 UTC</td></tr><tr><td>4970</td><td>[1478.699951, 1459.449951, … 1313.650024]</td><td>2023-12-08 09:45:00 UTC</td></tr></tbody></table></div>"
      ],
      "text/plain": [
       "shape: (4_971, 3)\n",
       "┌───────┬───────────────────────────────────┬─────────────────────────┐\n",
       "│ index ┆ Close                             ┆ Datetime                │\n",
       "│ ---   ┆ ---                               ┆ ---                     │\n",
       "│ i64   ┆ list[f64]                         ┆ datetime[ns, UTC]       │\n",
       "╞═══════╪═══════════════════════════════════╪═════════════════════════╡\n",
       "│ 0     ┆ [2464.649902, 2481.449951, … 251… ┆ 2021-01-19 07:45:00 UTC │\n",
       "│ 1     ┆ [2481.449951, 2520.550049, … 251… ┆ 2021-01-19 08:45:00 UTC │\n",
       "│ 2     ┆ [2520.550049, 2509.949951, … 251… ┆ 2021-01-19 09:45:00 UTC │\n",
       "│ 3     ┆ [2509.949951, 2514.550049, … 253… ┆ 2021-01-20 03:45:00 UTC │\n",
       "│ …     ┆ …                                 ┆ …                       │\n",
       "│ 4967  ┆ [1575.25, 1510.0, … 1301.150024]  ┆ 2023-12-08 06:45:00 UTC │\n",
       "│ 4968  ┆ [1510.0, 1497.050049, … 1303.400… ┆ 2023-12-08 07:45:00 UTC │\n",
       "│ 4969  ┆ [1497.050049, 1478.699951, … 131… ┆ 2023-12-08 08:45:00 UTC │\n",
       "│ 4970  ┆ [1478.699951, 1459.449951, … 131… ┆ 2023-12-08 09:45:00 UTC │\n",
       "└───────┴───────────────────────────────────┴─────────────────────────┘"
      ]
     },
     "execution_count": 4,
     "metadata": {},
     "output_type": "execute_result"
    }
   ],
   "source": [
    "TICKER = \"WHIRLPOOL.NS\"\n",
    "TRAIN_FILE = Path(\"../datasets\") / f\"{TICKER}\"\n",
    "\n",
    "TRACKERS = {\n",
    "    \"correct_trade\": 0,\n",
    "    \"wrong_trade\": 0,\n",
    "    \"buy_counter\": 0,\n",
    "    \"sell_counter\": 0,\n",
    "    \"hold_counter\": 0,\n",
    "    \"good_hold_counter\": 0,\n",
    "    \"good_sell_counter\": 0,\n",
    "    \"good_buy_counter\": 0,\n",
    "    \"bad_buy_counter\": 0,\n",
    "    \"bad_hold_counter\": 0,\n",
    "    \"bad_sell_counter\": 0,\n",
    "    \"holds_with_no_shares_counter\": 0,\n",
    "    \"bad_holds_with_no_shares_counter\": 0,\n",
    "    \"good_holds_with_no_shares_counter\": 0,\n",
    "    \"good_hold_profit\": 0,\n",
    "    \"good_sell_profit\": 0,\n",
    "    \"bad_hold_loss\": 0,\n",
    "    \"bad_sell_loss\": 0,\n",
    "    \"good_profit\": 0,\n",
    "    \"bad_loss\": 0,\n",
    "    \"good_hold_streak\": 0,\n",
    "    \"bad_hold_streak\": 0,\n",
    "    \"waiting_streak\": 0,\n",
    "    \"reward_tracker\": 0,\n",
    "    \"available_amount\": 10_000,\n",
    "    \"shares_holding\": 0,\n",
    "    \"buy_price_index\": -1,\n",
    "    \"buy_price\": -1,\n",
    "    \"total_buy_price\": -1,\n",
    "    \"profit\": 0,\n",
    "    \"portfolio_value\": 10_000,\n",
    "    \"portfolio_value_threshold\": 10_000,\n",
    "}\n",
    "\n",
    "\n",
    "OBS = (\n",
    "    pl\n",
    "    .read_parquet(TRAIN_FILE)\n",
    "    .with_columns(index=pl.int_range(0, end=pl.count(), eager=False))\n",
    "    .sort(\"index\")\n",
    "    .set_sorted(\"index\")\n",
    "    .group_by_dynamic(\n",
    "        \"index\", every=\"1i\", period=\"40i\", include_boundaries=True, closed=\"right\"\n",
    "    )\n",
    "    .agg(pl.col(\"Close\"), pl.col(\"Datetime\").last())\n",
    "    .with_columns(pl.col(\"Close\").list.len().alias(\"counter\"))\n",
    "    .filter(pl.col(\"counter\") == 40)\n",
    "    .with_columns(index=pl.int_range(0, end=pl.count(), eager=False))\n",
    "    .select(\"index\", \"Close\", \"Datetime\")\n",
    "    # .with_columns(\n",
    "    #     close_price=pl.col(\"Close\").list.last(),\n",
    "    #     min_price=pl.col(\"Close\").list.min(),\n",
    "    #     max_price=pl.col(\"Close\").list.max(),\n",
    "    # )\n",
    "    # .with_columns([\n",
    "    #     ((pl.col(\"close_price\") - pl.col(\"min_price\")) / (pl.col(\"max_price\") - pl.col(\"min_price\"))*100).alias(\"%_away_from_min\")\n",
    "    # ])\n",
    "    # .with_columns([\n",
    "    #     (100 - pl.col(\"%_away_from_min\")).alias(\"%_away_from_max\")\n",
    "    # ])\n",
    "    # .with_columns([\n",
    "    #     pl.lit(v).alias(k)\n",
    "    #     for k, v in TRACKERS.items()\n",
    "    # ])\n",
    ")\n",
    "OBS"
   ]
  },
  {
   "cell_type": "code",
   "execution_count": 37,
   "metadata": {},
   "outputs": [
    {
     "data": {
      "text/html": [
       "<div><style>\n",
       ".dataframe > thead > tr,\n",
       ".dataframe > tbody > tr {\n",
       "  text-align: right;\n",
       "  white-space: pre-wrap;\n",
       "}\n",
       "</style>\n",
       "<small>shape: (4_971, 5)</small><table border=\"1\" class=\"dataframe\"><thead><tr><th>min_price</th><th>close_price</th><th>max_price</th><th>%_away_from_min</th><th>%_away_from_max</th></tr><tr><td>f64</td><td>f64</td><td>f64</td><td>f64</td><td>f64</td></tr></thead><tbody><tr><td>2369.0</td><td>2519.0</td><td>2520.550049</td><td>98.977203</td><td>1.022797</td></tr><tr><td>2369.0</td><td>2511.149902</td><td>2520.550049</td><td>93.797332</td><td>6.202668</td></tr><tr><td>2369.0</td><td>2517.0</td><td>2520.550049</td><td>97.657507</td><td>2.342493</td></tr><tr><td>2369.0</td><td>2535.899902</td><td>2535.899902</td><td>100.0</td><td>0.0</td></tr><tr><td>2369.0</td><td>2533.850098</td><td>2535.899902</td><td>98.771836</td><td>1.228164</td></tr><tr><td>2369.0</td><td>2536.600098</td><td>2536.600098</td><td>100.0</td><td>0.0</td></tr><tr><td>2369.0</td><td>2534.100098</td><td>2536.600098</td><td>98.508354</td><td>1.491646</td></tr><tr><td>2369.0</td><td>2543.100098</td><td>2543.100098</td><td>100.0</td><td>0.0</td></tr><tr><td>2369.0</td><td>2537.300049</td><td>2543.100098</td><td>96.668555</td><td>3.331445</td></tr><tr><td>2369.0</td><td>2541.699951</td><td>2543.100098</td><td>99.195781</td><td>0.804219</td></tr><tr><td>2369.0</td><td>2634.0</td><td>2634.0</td><td>100.0</td><td>0.0</td></tr><tr><td>2369.0</td><td>2651.949951</td><td>2651.949951</td><td>100.0</td><td>0.0</td></tr><tr><td>&hellip;</td><td>&hellip;</td><td>&hellip;</td><td>&hellip;</td><td>&hellip;</td></tr><tr><td>1317.0</td><td>1325.349976</td><td>1575.25</td><td>3.233292</td><td>96.766708</td></tr><tr><td>1317.0</td><td>1324.800049</td><td>1575.25</td><td>3.020348</td><td>96.979652</td></tr><tr><td>1317.0</td><td>1320.0</td><td>1575.25</td><td>1.161665</td><td>98.838335</td></tr><tr><td>1317.0</td><td>1321.0</td><td>1575.25</td><td>1.548887</td><td>98.451113</td></tr><tr><td>1317.0</td><td>1320.0</td><td>1575.25</td><td>1.161665</td><td>98.838335</td></tr><tr><td>1309.150024</td><td>1309.150024</td><td>1575.25</td><td>0.0</td><td>100.0</td></tr><tr><td>1306.25</td><td>1306.25</td><td>1575.25</td><td>0.0</td><td>100.0</td></tr><tr><td>1296.800049</td><td>1296.800049</td><td>1575.25</td><td>0.0</td><td>100.0</td></tr><tr><td>1296.800049</td><td>1301.150024</td><td>1575.25</td><td>1.562211</td><td>98.437789</td></tr><tr><td>1296.800049</td><td>1303.400024</td><td>1510.0</td><td>3.095674</td><td>96.904326</td></tr><tr><td>1296.800049</td><td>1314.349976</td><td>1497.050049</td><td>8.764008</td><td>91.235992</td></tr><tr><td>1296.800049</td><td>1313.650024</td><td>1478.699951</td><td>9.263323</td><td>90.736677</td></tr></tbody></table></div>"
      ],
      "text/plain": [
       "shape: (4_971, 5)\n",
       "┌─────────────┬─────────────┬─────────────┬─────────────────┬─────────────────┐\n",
       "│ min_price   ┆ close_price ┆ max_price   ┆ %_away_from_min ┆ %_away_from_max │\n",
       "│ ---         ┆ ---         ┆ ---         ┆ ---             ┆ ---             │\n",
       "│ f64         ┆ f64         ┆ f64         ┆ f64             ┆ f64             │\n",
       "╞═════════════╪═════════════╪═════════════╪═════════════════╪═════════════════╡\n",
       "│ 2369.0      ┆ 2519.0      ┆ 2520.550049 ┆ 98.977203       ┆ 1.022797        │\n",
       "│ 2369.0      ┆ 2511.149902 ┆ 2520.550049 ┆ 93.797332       ┆ 6.202668        │\n",
       "│ 2369.0      ┆ 2517.0      ┆ 2520.550049 ┆ 97.657507       ┆ 2.342493        │\n",
       "│ 2369.0      ┆ 2535.899902 ┆ 2535.899902 ┆ 100.0           ┆ 0.0             │\n",
       "│ …           ┆ …           ┆ …           ┆ …               ┆ …               │\n",
       "│ 1296.800049 ┆ 1301.150024 ┆ 1575.25     ┆ 1.562211        ┆ 98.437789       │\n",
       "│ 1296.800049 ┆ 1303.400024 ┆ 1510.0      ┆ 3.095674        ┆ 96.904326       │\n",
       "│ 1296.800049 ┆ 1314.349976 ┆ 1497.050049 ┆ 8.764008        ┆ 91.235992       │\n",
       "│ 1296.800049 ┆ 1313.650024 ┆ 1478.699951 ┆ 9.263323        ┆ 90.736677       │\n",
       "└─────────────┴─────────────┴─────────────┴─────────────────┴─────────────────┘"
      ]
     },
     "execution_count": 37,
     "metadata": {},
     "output_type": "execute_result"
    }
   ],
   "source": [
    "(\n",
    "    OBS\n",
    "    .select([\n",
    "    \"min_price\", \"close_price\", \"max_price\",\n",
    "    \"%_away_from_min\", \"%_away_from_max\"\n",
    "    ])\n",
    ")"
   ]
  }
 ],
 "metadata": {
  "kernelspec": {
   "display_name": "Python 3",
   "language": "python",
   "name": "python3"
  },
  "language_info": {
   "codemirror_mode": {
    "name": "ipython",
    "version": 3
   },
   "file_extension": ".py",
   "mimetype": "text/x-python",
   "name": "python",
   "nbconvert_exporter": "python",
   "pygments_lexer": "ipython3",
   "version": "3.11.6"
  }
 },
 "nbformat": 4,
 "nbformat_minor": 2
}
