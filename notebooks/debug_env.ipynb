{
 "cells": [
  {
   "cell_type": "code",
   "execution_count": 1,
   "metadata": {},
   "outputs": [],
   "source": [
    "import sys\n",
    "\n",
    "sys.path.append(\"../\")\n",
    "from pathlib import Path\n",
    "\n",
    "import polars as pl\n",
    "from stable_baselines3 import PPO\n",
    "from stable_baselines3.common.env_checker import check_env\n",
    "\n",
    "from common.make_vec_env import make_vec_env\n",
    "from envs.single_stock_trading_env import StockTradingEnv"
   ]
  },
  {
   "cell_type": "code",
   "execution_count": 2,
   "metadata": {},
   "outputs": [],
   "source": [
    "TICKER = \"SBIN.NS\"\n",
    "TRAIN_FILE = Path(\"../datasets\") / f\"{TICKER}_train\"\n",
    "EVAL_FILE = Path(\"../datasets\") / f\"{TICKER}_trade\"\n",
    "\n",
    "CLOSE_PRICES = pl.read_parquet(TRAIN_FILE)[\"Close\"].to_numpy()\n",
    "EVAL_CLOSE_PRICES = pl.read_parquet(EVAL_FILE)[\"Close\"].to_numpy()"
   ]
  },
  {
   "cell_type": "code",
   "execution_count": 3,
   "metadata": {},
   "outputs": [],
   "source": [
    "check_env(StockTradingEnv(CLOSE_PRICES, seed=0))"
   ]
  },
  {
   "cell_type": "code",
   "execution_count": 4,
   "metadata": {},
   "outputs": [],
   "source": [
    "env = StockTradingEnv(CLOSE_PRICES, seed=0)"
   ]
  },
  {
   "cell_type": "code",
   "execution_count": 5,
   "metadata": {},
   "outputs": [
    {
     "data": {
      "text/plain": [
       "(array([  457.65, 10000.  ,     0.  ,     0.  ], dtype=float32), {})"
      ]
     },
     "execution_count": 5,
     "metadata": {},
     "output_type": "execute_result"
    }
   ],
   "source": [
    "obs, info = env.reset()\n",
    "obs, info"
   ]
  },
  {
   "cell_type": "code",
   "execution_count": 9,
   "metadata": {},
   "outputs": [
    {
     "data": {
      "text/plain": [
       "{'seed': 0,\n",
       " 'counter': 3,\n",
       " 'close_price': 447.4,\n",
       " 'predicted_action': 'SELL',\n",
       " 'description': '22.0 shares sold at 447.40 with profit of -34.1005859375',\n",
       " 'available_amount': 9965.899,\n",
       " 'shares_holdings': 0,\n",
       " 'buy_price': 0,\n",
       " 'buy_price_index': -1,\n",
       " 'reward': -34.1005859375,\n",
       " 'done': False,\n",
       " 'truncated': False,\n",
       " 'correct_trade': 4,\n",
       " 'wrong_trade': 0,\n",
       " 'correct_trade %': 100.0,\n",
       " 'buy_counter': 1,\n",
       " 'sell_counter': 1,\n",
       " 'hold_counter': 0,\n",
       " 'good_hold_counter': 0,\n",
       " 'good_sell_counter': 0,\n",
       " 'good_buy_counter': 1,\n",
       " 'bad_hold_counter': 0,\n",
       " 'bad_sell_counter': 1,\n",
       " 'bad_buy_counter': 0,\n",
       " 'hold_with_no_shares_counter': 2,\n",
       " 'good_hold_streak': 0,\n",
       " 'bad_hold_streak': 0,\n",
       " 'buy_counter %': 25.0,\n",
       " 'good_sell_counter %': 0,\n",
       " 'good_hold_counter %': 0,\n",
       " 'bad_sell_counter %': 25.0,\n",
       " 'bad_hold_counter %': 0,\n",
       " 'holds_with_no_shares_counter %': 50.0,\n",
       " 'good_hold_profit': 0,\n",
       " 'good_sell_profit': 0,\n",
       " 'good_buy_profit': 0,\n",
       " 'bad_hold_loss': 0,\n",
       " 'bad_sell_loss': -34.1005859375,\n",
       " 'bad_buy_loss': 0,\n",
       " 'good_moves': 0,\n",
       " 'bad_moves': 1,\n",
       " 'good_moves %': 0,\n",
       " 'reward_tracker': -31.1005859375,\n",
       " 'portfolio_value': 9965.8994140625,\n",
       " 'combined_hold_profit': 0,\n",
       " 'combined_sell_profit': -34.1005859375,\n",
       " 'combined_total_profit': -34.1005859375,\n",
       " 'combined_hold_streak': 0,\n",
       " 'track_portfolio': []}"
      ]
     },
     "execution_count": 9,
     "metadata": {},
     "output_type": "execute_result"
    }
   ],
   "source": [
    "s, r, d, t, i = env.step(2)\n",
    "i"
   ]
  },
  {
   "cell_type": "code",
   "execution_count": 18,
   "metadata": {},
   "outputs": [
    {
     "data": {
      "text/html": [
       "<div><style>\n",
       ".dataframe > thead > tr,\n",
       ".dataframe > tbody > tr {\n",
       "  text-align: right;\n",
       "  white-space: pre-wrap;\n",
       "}\n",
       "</style>\n",
       "<small>shape: (371, 20)</small><table border=\"1\" class=\"dataframe\"><thead><tr><th>Datetime</th><th>Close</th><th>RSI</th><th>EMA9</th><th>EMA21</th><th>MACD</th><th>MACD_SIGNAL</th><th>BBANDS_UPPER</th><th>BBANDS_MIDDLE</th><th>BBANDS_LOWER</th><th>ADX</th><th>STOCH_K</th><th>STOCH_D</th><th>ATR</th><th>CCI</th><th>MOM</th><th>ROC</th><th>WILLR</th><th>PPO</th><th>Actions</th></tr><tr><td>str</td><td>f64</td><td>f64</td><td>f64</td><td>f64</td><td>f64</td><td>f64</td><td>f64</td><td>f64</td><td>f64</td><td>f64</td><td>f64</td><td>f64</td><td>f64</td><td>f64</td><td>f64</td><td>f64</td><td>f64</td><td>f64</td><td>str</td></tr></thead><tbody><tr><td>&quot;2023-08-04 03:…</td><td>592.599976</td><td>34.215289</td><td>593.04732</td><td>599.098184</td><td>-6.307788</td><td>-5.752122</td><td>617.59649</td><td>599.995004</td><td>582.393519</td><td>49.057268</td><td>66.097559</td><td>44.168844</td><td>4.162341</td><td>-56.254793</td><td>-3.900024</td><td>-0.653818</td><td>-68.801719</td><td>-1.776887</td><td>&quot;HOLD&quot;</td></tr><tr><td>&quot;2023-08-04 04:…</td><td>595.200012</td><td>39.898269</td><td>593.477859</td><td>598.743805</td><td>-5.79683</td><td>-5.761063</td><td>615.672932</td><td>599.085004</td><td>582.497075</td><td>49.078604</td><td>80.213751</td><td>61.716574</td><td>4.193601</td><td>-7.76646</td><td>-4.049988</td><td>-0.675843</td><td>-49.502458</td><td>-1.701393</td><td>&quot;HOLD&quot;</td></tr><tr><td>&quot;2023-08-04 05:…</td><td>596.799988</td><td>43.152731</td><td>594.142285</td><td>598.567094</td><td>-5.202812</td><td>-5.649413</td><td>613.624074</td><td>598.280002</td><td>582.93593</td><td>47.995942</td><td>89.26872</td><td>78.526677</td><td>4.158344</td><td>55.752468</td><td>-2.100037</td><td>-0.350649</td><td>-37.994763</td><td>-1.567384</td><td>&quot;HOLD&quot;</td></tr><tr><td>&quot;2023-08-04 06:…</td><td>593.0</td><td>37.903187</td><td>593.913828</td><td>598.060995</td><td>-4.981256</td><td>-5.515782</td><td>611.614952</td><td>597.360001</td><td>583.10505</td><td>47.412213</td><td>75.581632</td><td>81.688034</td><td>4.229174</td><td>18.573737</td><td>0.799988</td><td>0.135087</td><td>-49.683428</td><td>-1.479955</td><td>&quot;HOLD&quot;</td></tr><tr><td>&quot;2023-08-04 07:…</td><td>576.200012</td><td>24.00159</td><td>590.371065</td><td>596.073633</td><td>-6.091075</td><td>-5.63084</td><td>611.045368</td><td>595.585001</td><td>580.124633</td><td>48.706005</td><td>48.939613</td><td>71.263322</td><td>5.516376</td><td>-222.763293</td><td>-16.849976</td><td>-2.84124</td><td>-86.188757</td><td>-1.517362</td><td>&quot;HOLD&quot;</td></tr><tr><td>&quot;2023-08-04 08:…</td><td>573.900024</td><td>22.770303</td><td>587.076857</td><td>594.05785</td><td>-7.074652</td><td>-5.919603</td><td>609.851195</td><td>593.662503</td><td>577.473811</td><td>49.921356</td><td>22.926329</td><td>49.149192</td><td>5.67235</td><td>-233.637316</td><td>-18.0</td><td>-3.041054</td><td>-93.414121</td><td>-1.482601</td><td>&quot;HOLD&quot;</td></tr><tr><td>&quot;2023-08-04 09:…</td><td>573.200012</td><td>22.393764</td><td>584.301488</td><td>592.161683</td><td>-7.82048</td><td>-6.299778</td><td>608.931511</td><td>591.902502</td><td>574.873494</td><td>51.07946</td><td>9.433371</td><td>27.099771</td><td>5.45647</td><td>-190.258119</td><td>-17.149963</td><td>-2.90505</td><td>-94.20779</td><td>-1.48486</td><td>&quot;HOLD&quot;</td></tr><tr><td>&quot;2023-08-07 03:…</td><td>570.900024</td><td>21.155885</td><td>581.621195</td><td>590.228805</td><td>-8.49917</td><td>-6.739656</td><td>608.61177</td><td>590.242505</td><td>571.87324</td><td>52.291359</td><td>6.454252</td><td>12.937984</td><td>5.552435</td><td>-148.452113</td><td>-15.099976</td><td>-2.576788</td><td>-94.237247</td><td>-1.508338</td><td>&quot;HOLD&quot;</td></tr><tr><td>&quot;2023-08-07 04:…</td><td>568.200012</td><td>19.774005</td><td>578.936958</td><td>588.226187</td><td>-9.149436</td><td>-7.221612</td><td>608.403215</td><td>588.542505</td><td>568.681795</td><td>53.533983</td><td>5.361881</td><td>7.083168</td><td>5.50226</td><td>-133.378831</td><td>-22.599976</td><td>-3.825318</td><td>-96.671987</td><td>-1.534055</td><td>&quot;HOLD&quot;</td></tr><tr><td>&quot;2023-08-07 05:…</td><td>569.650024</td><td>22.694395</td><td>577.079572</td><td>586.537445</td><td>-9.438967</td><td>-7.665083</td><td>607.681385</td><td>587.000006</td><td>566.318627</td><td>54.687848</td><td>9.918647</td><td>7.244927</td><td>5.344954</td><td>-105.989029</td><td>-21.75</td><td>-3.677714</td><td>-92.076067</td><td>-1.497092</td><td>&quot;HOLD&quot;</td></tr><tr><td>&quot;2023-08-07 06:…</td><td>568.650024</td><td>22.096986</td><td>575.393662</td><td>584.911316</td><td>-9.638012</td><td>-8.059669</td><td>607.269862</td><td>585.607507</td><td>563.945153</td><td>55.771811</td><td>13.56954</td><td>9.616689</td><td>5.170317</td><td>-92.79697</td><td>-23.949951</td><td>-4.041504</td><td>-95.24564</td><td>-1.533517</td><td>&quot;HOLD&quot;</td></tr><tr><td>&quot;2023-08-07 07:…</td><td>567.099976</td><td>21.166864</td><td>573.734925</td><td>583.292103</td><td>-9.807776</td><td>-8.40929</td><td>606.140548</td><td>584.000006</td><td>561.859464</td><td>56.817814</td><td>13.02227</td><td>12.170152</td><td>4.990291</td><td>-85.823408</td><td>-28.100037</td><td>-4.721108</td><td>-99.371222</td><td>-1.58645</td><td>&quot;BUY&quot;</td></tr><tr><td>&hellip;</td><td>&hellip;</td><td>&hellip;</td><td>&hellip;</td><td>&hellip;</td><td>&hellip;</td><td>&hellip;</td><td>&hellip;</td><td>&hellip;</td><td>&hellip;</td><td>&hellip;</td><td>&hellip;</td><td>&hellip;</td><td>&hellip;</td><td>&hellip;</td><td>&hellip;</td><td>&hellip;</td><td>&hellip;</td><td>&hellip;</td><td>&hellip;</td></tr><tr><td>&quot;2023-10-19 05:…</td><td>572.099976</td><td>40.091818</td><td>572.361677</td><td>574.568594</td><td>-2.569554</td><td>-2.569584</td><td>580.627401</td><td>574.652493</td><td>568.677586</td><td>27.615447</td><td>62.617215</td><td>60.186302</td><td>2.703375</td><td>-49.300465</td><td>-4.5</td><td>-0.780437</td><td>-58.436398</td><td>-0.361489</td><td>&quot;HOLD&quot;</td></tr><tr><td>&quot;2023-10-19 06:…</td><td>571.049988</td><td>37.878801</td><td>572.099339</td><td>574.24872</td><td>-2.527776</td><td>-2.561222</td><td>580.572995</td><td>574.419992</td><td>568.266989</td><td>27.739264</td><td>66.892669</td><td>63.746386</td><td>2.638847</td><td>-54.63383</td><td>-7.450012</td><td>-1.287815</td><td>-67.078255</td><td>-0.397814</td><td>&quot;HOLD&quot;</td></tr><tr><td>&quot;2023-10-19 07:…</td><td>572.150024</td><td>41.520786</td><td>572.109476</td><td>574.05793</td><td>-2.378485</td><td>-2.524675</td><td>580.432322</td><td>574.237494</td><td>568.042666</td><td>27.150208</td><td>74.197107</td><td>67.902331</td><td>2.714645</td><td>-26.283867</td><td>1.800049</td><td>0.315604</td><td>-58.024474</td><td>-0.436676</td><td>&quot;HOLD&quot;</td></tr><tr><td>&quot;2023-10-19 08:…</td><td>570.799988</td><td>38.534884</td><td>571.847578</td><td>573.761753</td><td>-2.342109</td><td>-2.488161</td><td>580.342801</td><td>574.002493</td><td>567.662186</td><td>26.7414</td><td>60.379867</td><td>67.156548</td><td>2.742173</td><td>-56.507262</td><td>-0.5</td><td>-0.08752</td><td>-69.135864</td><td>-0.516702</td><td>&quot;HOLD&quot;</td></tr><tr><td>&quot;2023-10-19 09:…</td><td>571.299988</td><td>40.248709</td><td>571.73806</td><td>573.537956</td><td>-2.247032</td><td>-2.439936</td><td>579.668562</td><td>573.627493</td><td>567.586424</td><td>26.361792</td><td>50.019071</td><td>61.532015</td><td>2.617732</td><td>-52.792638</td><td>-0.400024</td><td>-0.069971</td><td>-65.020646</td><td>-0.464275</td><td>&quot;HOLD&quot;</td></tr><tr><td>&quot;2023-10-20 03:…</td><td>567.849976</td><td>33.340768</td><td>570.960443</td><td>573.020867</td><td>-2.42215</td><td>-2.436378</td><td>579.057924</td><td>573.064993</td><td>567.072062</td><td>27.101044</td><td>31.050206</td><td>47.149715</td><td>2.766466</td><td>-230.296202</td><td>-5.200012</td><td>-0.907427</td><td>-89.878573</td><td>-0.451334</td><td>&quot;HOLD&quot;</td></tr><tr><td>&quot;2023-10-20 04:…</td><td>567.099976</td><td>32.052849</td><td>570.18835</td><td>572.482604</td><td>-2.591576</td><td>-2.467418</td><td>578.517448</td><td>572.502493</td><td>566.487539</td><td>27.984875</td><td>23.204725</td><td>34.758001</td><td>2.722434</td><td>-217.561791</td><td>-5.75</td><td>-1.003753</td><td>-83.536908</td><td>-0.457087</td><td>&quot;HOLD&quot;</td></tr><tr><td>&quot;2023-10-20 05:…</td><td>565.5</td><td>29.440148</td><td>569.25068</td><td>571.847822</td><td>-2.822418</td><td>-2.538418</td><td>578.097183</td><td>571.882492</td><td>565.667801</td><td>29.187172</td><td>16.774566</td><td>23.676499</td><td>2.802973</td><td>-188.358719</td><td>-7.099976</td><td>-1.239954</td><td>-84.924642</td><td>-0.498722</td><td>&quot;HOLD&quot;</td></tr><tr><td>&quot;2023-10-20 06:…</td><td>562.75</td><td>25.580588</td><td>567.950544</td><td>571.020747</td><td>-3.190485</td><td>-2.668831</td><td>578.320449</td><td>571.224991</td><td>564.129533</td><td>30.663505</td><td>13.244616</td><td>17.741302</td><td>2.849186</td><td>-193.516554</td><td>-7.700012</td><td>-1.349814</td><td>-94.915456</td><td>-0.558483</td><td>&quot;HOLD&quot;</td></tr><tr><td>&quot;2023-10-20 07:…</td><td>563.849976</td><td>29.558554</td><td>567.13043</td><td>570.368859</td><td>-3.354751</td><td>-2.806015</td><td>578.006698</td><td>570.607489</td><td>563.20828</td><td>32.034385</td><td>14.975417</td><td>14.998199</td><td>2.824244</td><td>-137.602702</td><td>-6.450012</td><td>-1.130986</td><td>-85.593619</td><td>-0.60804</td><td>&quot;HOLD&quot;</td></tr><tr><td>&quot;2023-10-20 08:…</td><td>563.049988</td><td>28.370787</td><td>566.314342</td><td>569.703507</td><td>-3.509035</td><td>-2.946619</td><td>577.48998</td><td>569.92999</td><td>562.369999</td><td>33.307346</td><td>14.574634</td><td>14.264889</td><td>2.740371</td><td>-119.046659</td><td>-9.049988</td><td>-1.581889</td><td>-92.373184</td><td>-0.610591</td><td>&quot;HOLD&quot;</td></tr><tr><td>&quot;2023-10-20 09:…</td><td>562.700012</td><td>27.843662</td><td>565.591476</td><td>569.066826</td><td>-3.617842</td><td>-3.080864</td><td>576.240874</td><td>569.13999</td><td>562.039106</td><td>34.627365</td><td>15.652008</td><td>15.067353</td><td>2.648203</td><td>-111.187769</td><td>-8.349976</td><td>-1.462214</td><td>-95.339082</td><td>-0.611715</td><td>&quot;HOLD&quot;</td></tr></tbody></table></div>"
      ],
      "text/plain": [
       "shape: (371, 20)\n",
       "┌────────────┬───────────┬───────────┬───────────┬───┬───────────┬───────────┬───────────┬─────────┐\n",
       "│ Datetime   ┆ Close     ┆ RSI       ┆ EMA9      ┆ … ┆ ROC       ┆ WILLR     ┆ PPO       ┆ Actions │\n",
       "│ ---        ┆ ---       ┆ ---       ┆ ---       ┆   ┆ ---       ┆ ---       ┆ ---       ┆ ---     │\n",
       "│ str        ┆ f64       ┆ f64       ┆ f64       ┆   ┆ f64       ┆ f64       ┆ f64       ┆ str     │\n",
       "╞════════════╪═══════════╪═══════════╪═══════════╪═══╪═══════════╪═══════════╪═══════════╪═════════╡\n",
       "│ 2023-08-04 ┆ 592.59997 ┆ 34.215289 ┆ 593.04732 ┆ … ┆ -0.653818 ┆ -68.80171 ┆ -1.776887 ┆ HOLD    │\n",
       "│ 03:45:00   ┆ 6         ┆           ┆           ┆   ┆           ┆ 9         ┆           ┆         │\n",
       "│ 2023-08-04 ┆ 595.20001 ┆ 39.898269 ┆ 593.47785 ┆ … ┆ -0.675843 ┆ -49.50245 ┆ -1.701393 ┆ HOLD    │\n",
       "│ 04:45:00   ┆ 2         ┆           ┆ 9         ┆   ┆           ┆ 8         ┆           ┆         │\n",
       "│ 2023-08-04 ┆ 596.79998 ┆ 43.152731 ┆ 594.14228 ┆ … ┆ -0.350649 ┆ -37.99476 ┆ -1.567384 ┆ HOLD    │\n",
       "│ 05:44:59   ┆ 8         ┆           ┆ 5         ┆   ┆           ┆ 3         ┆           ┆         │\n",
       "│ 2023-08-04 ┆ 593.0     ┆ 37.903187 ┆ 593.91382 ┆ … ┆ 0.135087  ┆ -49.68342 ┆ -1.479955 ┆ HOLD    │\n",
       "│ 06:45:00   ┆           ┆           ┆ 8         ┆   ┆           ┆ 8         ┆           ┆         │\n",
       "│ …          ┆ …         ┆ …         ┆ …         ┆ … ┆ …         ┆ …         ┆ …         ┆ …       │\n",
       "│ 2023-10-20 ┆ 562.75    ┆ 25.580588 ┆ 567.95054 ┆ … ┆ -1.349814 ┆ -94.91545 ┆ -0.558483 ┆ HOLD    │\n",
       "│ 06:45:00   ┆           ┆           ┆ 4         ┆   ┆           ┆ 6         ┆           ┆         │\n",
       "│ 2023-10-20 ┆ 563.84997 ┆ 29.558554 ┆ 567.13043 ┆ … ┆ -1.130986 ┆ -85.59361 ┆ -0.60804  ┆ HOLD    │\n",
       "│ 07:45:00   ┆ 6         ┆           ┆           ┆   ┆           ┆ 9         ┆           ┆         │\n",
       "│ 2023-10-20 ┆ 563.04998 ┆ 28.370787 ┆ 566.31434 ┆ … ┆ -1.581889 ┆ -92.37318 ┆ -0.610591 ┆ HOLD    │\n",
       "│ 08:44:59   ┆ 8         ┆           ┆ 2         ┆   ┆           ┆ 4         ┆           ┆         │\n",
       "│ 2023-10-20 ┆ 562.70001 ┆ 27.843662 ┆ 565.59147 ┆ … ┆ -1.462214 ┆ -95.33908 ┆ -0.611715 ┆ HOLD    │\n",
       "│ 09:45:00   ┆ 2         ┆           ┆ 6         ┆   ┆           ┆ 2         ┆           ┆         │\n",
       "└────────────┴───────────┴───────────┴───────────┴───┴───────────┴───────────┴───────────┴─────────┘"
      ]
     },
     "execution_count": 18,
     "metadata": {},
     "output_type": "execute_result"
    }
   ],
   "source": [
    "df = pl.read_excel(\"../datasets/LabelTradeSBI.NS.xlsx\")\n",
    "df"
   ]
  },
  {
   "cell_type": "code",
   "execution_count": 22,
   "metadata": {},
   "outputs": [
    {
     "ename": "AttributeError",
     "evalue": "'Then' object has no attribute 'then'",
     "output_type": "error",
     "traceback": [
      "\u001b[0;31m---------------------------------------------------------------------------\u001b[0m",
      "\u001b[0;31mAttributeError\u001b[0m                            Traceback (most recent call last)",
      "\u001b[1;32m/home/dhruv/Projects/stock-prediction-2/notebooks/debug_env.ipynb Cell 8\u001b[0m line \u001b[0;36m1\n\u001b[1;32m      <a href='vscode-notebook-cell:/home/dhruv/Projects/stock-prediction-2/notebooks/debug_env.ipynb#X10sZmlsZQ%3D%3D?line=0'>1</a>\u001b[0m \u001b[39m# backtest\u001b[39;00m\n\u001b[1;32m      <a href='vscode-notebook-cell:/home/dhruv/Projects/stock-prediction-2/notebooks/debug_env.ipynb#X10sZmlsZQ%3D%3D?line=1'>2</a>\u001b[0m start_price \u001b[39m=\u001b[39m \u001b[39m10_000\u001b[39m\n\u001b[1;32m      <a href='vscode-notebook-cell:/home/dhruv/Projects/stock-prediction-2/notebooks/debug_env.ipynb#X10sZmlsZQ%3D%3D?line=2'>3</a>\u001b[0m (\n\u001b[1;32m      <a href='vscode-notebook-cell:/home/dhruv/Projects/stock-prediction-2/notebooks/debug_env.ipynb#X10sZmlsZQ%3D%3D?line=3'>4</a>\u001b[0m     df\n\u001b[1;32m      <a href='vscode-notebook-cell:/home/dhruv/Projects/stock-prediction-2/notebooks/debug_env.ipynb#X10sZmlsZQ%3D%3D?line=4'>5</a>\u001b[0m     \u001b[39m.\u001b[39mwith_columns([\n\u001b[1;32m      <a href='vscode-notebook-cell:/home/dhruv/Projects/stock-prediction-2/notebooks/debug_env.ipynb#X10sZmlsZQ%3D%3D?line=5'>6</a>\u001b[0m         pl\u001b[39m.\u001b[39mlit(\u001b[39m10_000\u001b[39m)\u001b[39m.\u001b[39malias(\u001b[39m'\u001b[39m\u001b[39mAvailable_Amount\u001b[39m\u001b[39m'\u001b[39m)\n\u001b[1;32m      <a href='vscode-notebook-cell:/home/dhruv/Projects/stock-prediction-2/notebooks/debug_env.ipynb#X10sZmlsZQ%3D%3D?line=6'>7</a>\u001b[0m     ])\n\u001b[1;32m      <a href='vscode-notebook-cell:/home/dhruv/Projects/stock-prediction-2/notebooks/debug_env.ipynb#X10sZmlsZQ%3D%3D?line=7'>8</a>\u001b[0m     \u001b[39m.\u001b[39mwith_columns([\n\u001b[1;32m      <a href='vscode-notebook-cell:/home/dhruv/Projects/stock-prediction-2/notebooks/debug_env.ipynb#X10sZmlsZQ%3D%3D?line=8'>9</a>\u001b[0m         pl\u001b[39m.\u001b[39;49mwhen(pl\u001b[39m.\u001b[39;49mcol(\u001b[39m\"\u001b[39;49m\u001b[39mActions\u001b[39;49m\u001b[39m\"\u001b[39;49m)\u001b[39m==\u001b[39;49m\u001b[39m\"\u001b[39;49m\u001b[39mBUY\u001b[39;49m\u001b[39m\"\u001b[39;49m)\n\u001b[1;32m     <a href='vscode-notebook-cell:/home/dhruv/Projects/stock-prediction-2/notebooks/debug_env.ipynb#X10sZmlsZQ%3D%3D?line=9'>10</a>\u001b[0m         \u001b[39m.\u001b[39;49mthen(pl\u001b[39m.\u001b[39;49mcol(\u001b[39m'\u001b[39;49m\u001b[39mAvailable_Amount\u001b[39;49m\u001b[39m'\u001b[39;49m)\u001b[39m/\u001b[39;49m\u001b[39m/\u001b[39;49mpl\u001b[39m.\u001b[39;49mcol(\u001b[39m\"\u001b[39;49m\u001b[39mClose\u001b[39;49m\u001b[39m\"\u001b[39;49m))\n\u001b[0;32m---> <a href='vscode-notebook-cell:/home/dhruv/Projects/stock-prediction-2/notebooks/debug_env.ipynb#X10sZmlsZQ%3D%3D?line=10'>11</a>\u001b[0m         \u001b[39m.\u001b[39;49mthen(pl\u001b[39m.\u001b[39mcol(\u001b[39m\"\u001b[39m\u001b[39mAvailable_Amount\u001b[39m\u001b[39m\"\u001b[39m) \u001b[39m-\u001b[39m pl\u001b[39m.\u001b[39mcol(\u001b[39m'\u001b[39m\u001b[39mAvailable_Amount\u001b[39m\u001b[39m'\u001b[39m)\u001b[39m/\u001b[39m\u001b[39m/\u001b[39mpl\u001b[39m.\u001b[39mcol(\u001b[39m\"\u001b[39m\u001b[39mClose\u001b[39m\u001b[39m\"\u001b[39m))\n\u001b[1;32m     <a href='vscode-notebook-cell:/home/dhruv/Projects/stock-prediction-2/notebooks/debug_env.ipynb#X10sZmlsZQ%3D%3D?line=11'>12</a>\u001b[0m         \u001b[39m# .otherwise(0)\u001b[39;00m\n\u001b[1;32m     <a href='vscode-notebook-cell:/home/dhruv/Projects/stock-prediction-2/notebooks/debug_env.ipynb#X10sZmlsZQ%3D%3D?line=12'>13</a>\u001b[0m         \u001b[39m.\u001b[39malias(\u001b[39m\"\u001b[39m\u001b[39mShares_Holdings\u001b[39m\u001b[39m\"\u001b[39m)\n\u001b[1;32m     <a href='vscode-notebook-cell:/home/dhruv/Projects/stock-prediction-2/notebooks/debug_env.ipynb#X10sZmlsZQ%3D%3D?line=13'>14</a>\u001b[0m     ])\n\u001b[1;32m     <a href='vscode-notebook-cell:/home/dhruv/Projects/stock-prediction-2/notebooks/debug_env.ipynb#X10sZmlsZQ%3D%3D?line=14'>15</a>\u001b[0m )\n",
      "\u001b[0;31mAttributeError\u001b[0m: 'Then' object has no attribute 'then'"
     ]
    }
   ],
   "source": [
    "# backtest\n",
    "start_price = 10_000\n",
    "(\n",
    "    df.with_columns([pl.lit(10_000).alias(\"Available_Amount\")]).with_columns(\n",
    "        [\n",
    "            pl.when(pl.col(\"Actions\") == \"BUY\")\n",
    "            .then(pl.col(\"Available_Amount\") // pl.col(\"Close\"))\n",
    "            .then(\n",
    "                pl.col(\"Available_Amount\")\n",
    "                - pl.col(\"Available_Amount\") // pl.col(\"Close\")\n",
    "            )\n",
    "            # .otherwise(0)\n",
    "            .alias(\"Shares_Holdings\")\n",
    "        ]\n",
    "    )\n",
    ")"
   ]
  }
 ],
 "metadata": {
  "kernelspec": {
   "display_name": "Python 3",
   "language": "python",
   "name": "python3"
  },
  "language_info": {
   "codemirror_mode": {
    "name": "ipython",
    "version": 3
   },
   "file_extension": ".py",
   "mimetype": "text/x-python",
   "name": "python",
   "nbconvert_exporter": "python",
   "pygments_lexer": "ipython3",
   "version": "3.11.6"
  }
 },
 "nbformat": 4,
 "nbformat_minor": 2
}
