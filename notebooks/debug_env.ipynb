{
 "cells": [
  {
   "cell_type": "code",
   "execution_count": 1,
   "metadata": {},
   "outputs": [],
   "source": [
    "import sys\n",
    "\n",
    "sys.path.append(\"../\")\n",
    "from pathlib import Path\n",
    "\n",
    "import polars as pl\n",
    "from stable_baselines3 import PPO\n",
    "from stable_baselines3.common.env_checker import check_env\n",
    "\n",
    "from common.make_vec_env import make_vec_env\n",
    "from envs.single_stock_trading_env import StockTradingEnv\n",
    "import numpy as np\n",
    "import matplotlib.pyplot as plt"
   ]
  },
  {
   "cell_type": "code",
   "execution_count": 2,
   "metadata": {},
   "outputs": [],
   "source": [
    "TICKER = \"SBIN.NS\"\n",
    "TRAIN_FILE = Path(\"../datasets\") / f\"{TICKER}_train\"\n",
    "EVAL_FILE = Path(\"../datasets\") / f\"{TICKER}_trade\"\n",
    "\n",
    "CLOSE_PRICES = pl.read_parquet(TRAIN_FILE)[\"Close\"].to_numpy()\n",
    "EVAL_CLOSE_PRICES = pl.read_parquet(EVAL_FILE)[\"Close\"].to_numpy()"
   ]
  },
  {
   "cell_type": "code",
   "execution_count": 3,
   "metadata": {},
   "outputs": [
    {
     "data": {
      "text/html": [
       "<div><style>\n",
       ".dataframe > thead > tr,\n",
       ".dataframe > tbody > tr {\n",
       "  text-align: right;\n",
       "  white-space: pre-wrap;\n",
       "}\n",
       "</style>\n",
       "<small>shape: (1, 84)</small><table border=\"1\" class=\"dataframe\"><thead><tr><th>Datetime</th><th>Close</th><th>High</th><th>Low</th><th>Ticker</th><th>Past1Hour</th><th>Past2Hour</th><th>Past3Hour</th><th>Past4Hour</th><th>Past5Hour</th><th>Past6Hour</th><th>Past7Hour</th><th>Past8Hour</th><th>Past9Hour</th><th>Past10Hour</th><th>Past11Hour</th><th>Past12Hour</th><th>Past13Hour</th><th>Past14Hour</th><th>Past15Hour</th><th>Past16Hour</th><th>Past17Hour</th><th>Past18Hour</th><th>Past19Hour</th><th>Past20Hour</th><th>Past21Hour</th><th>Past22Hour</th><th>Past23Hour</th><th>Past24Hour</th><th>Past25Hour</th><th>Past26Hour</th><th>Past27Hour</th><th>Past28Hour</th><th>Past29Hour</th><th>RSI</th><th>EMA9</th><th>EMA21</th><th>&hellip;</th><th>MOM</th><th>ROC</th><th>WILLR</th><th>PPO</th><th>Previous1Action</th><th>Previous2Action</th><th>Previous3Action</th><th>Previous4Action</th><th>Previous5Action</th><th>Previous6Action</th><th>Previous7Action</th><th>Previous8Action</th><th>Previous9Action</th><th>Previous10Action</th><th>Previous11Action</th><th>Previous12Action</th><th>Previous13Action</th><th>Previous14Action</th><th>Previous15Action</th><th>Previous16Action</th><th>Previous17Action</th><th>Previous18Action</th><th>Previous19Action</th><th>Previous20Action</th><th>Previous21Action</th><th>Previous22Action</th><th>Previous23Action</th><th>Previous24Action</th><th>Previous25Action</th><th>Previous26Action</th><th>Previous27Action</th><th>Previous28Action</th><th>Previous29Action</th><th>PortfolioValue</th><th>AvailableAmount</th><th>SharesHolding</th><th>CummulativeProfitLoss</th></tr><tr><td>datetime[ns, UTC]</td><td>f64</td><td>f64</td><td>f64</td><td>str</td><td>f64</td><td>f64</td><td>f64</td><td>f64</td><td>f64</td><td>f64</td><td>f64</td><td>f64</td><td>f64</td><td>f64</td><td>f64</td><td>f64</td><td>f64</td><td>f64</td><td>f64</td><td>f64</td><td>f64</td><td>f64</td><td>f64</td><td>f64</td><td>f64</td><td>f64</td><td>f64</td><td>f64</td><td>f64</td><td>f64</td><td>f64</td><td>f64</td><td>f64</td><td>f64</td><td>f64</td><td>f64</td><td>&hellip;</td><td>f64</td><td>f64</td><td>f64</td><td>f64</td><td>i32</td><td>i32</td><td>i32</td><td>i32</td><td>i32</td><td>i32</td><td>i32</td><td>i32</td><td>i32</td><td>i32</td><td>i32</td><td>i32</td><td>i32</td><td>i32</td><td>i32</td><td>i32</td><td>i32</td><td>i32</td><td>i32</td><td>i32</td><td>i32</td><td>i32</td><td>i32</td><td>i32</td><td>i32</td><td>i32</td><td>i32</td><td>i32</td><td>i32</td><td>i32</td><td>i32</td><td>i32</td><td>i32</td></tr></thead><tbody><tr><td>2022-05-18 08:45:00 UTC</td><td>457.649994</td><td>460.950012</td><td>457.649994</td><td>&quot;SBIN.NS&quot;</td><td>460.600006</td><td>461.399994</td><td>464.0</td><td>463.549988</td><td>465.25</td><td>467.450012</td><td>467.049988</td><td>466.0</td><td>462.700012</td><td>461.75</td><td>458.149994</td><td>458.100006</td><td>455.950012</td><td>454.049988</td><td>457.950012</td><td>454.850006</td><td>454.600006</td><td>458.399994</td><td>454.100006</td><td>440.549988</td><td>445.350006</td><td>462.0</td><td>468.0</td><td>467.100006</td><td>466.899994</td><td>465.149994</td><td>462.700012</td><td>462.850006</td><td>457.950012</td><td>44.093113</td><td>461.558907</td><td>461.413721</td><td>&hellip;</td><td>-4.100006</td><td>-0.887928</td><td>-73.955042</td><td>0.69917</td><td>1</td><td>1</td><td>1</td><td>1</td><td>1</td><td>1</td><td>1</td><td>1</td><td>1</td><td>1</td><td>1</td><td>1</td><td>1</td><td>1</td><td>1</td><td>1</td><td>1</td><td>1</td><td>1</td><td>1</td><td>1</td><td>1</td><td>1</td><td>1</td><td>1</td><td>1</td><td>1</td><td>1</td><td>1</td><td>10000</td><td>10000</td><td>0</td><td>0</td></tr></tbody></table></div>"
      ],
      "text/plain": [
       "shape: (1, 84)\n",
       "┌───────────┬───────────┬───────────┬───────────┬───┬───────────┬───────────┬───────────┬──────────┐\n",
       "│ Datetime  ┆ Close     ┆ High      ┆ Low       ┆ … ┆ Portfolio ┆ Available ┆ SharesHol ┆ Cummulat │\n",
       "│ ---       ┆ ---       ┆ ---       ┆ ---       ┆   ┆ Value     ┆ Amount    ┆ ding      ┆ iveProfi │\n",
       "│ datetime[ ┆ f64       ┆ f64       ┆ f64       ┆   ┆ ---       ┆ ---       ┆ ---       ┆ tLoss    │\n",
       "│ ns, UTC]  ┆           ┆           ┆           ┆   ┆ i32       ┆ i32       ┆ i32       ┆ ---      │\n",
       "│           ┆           ┆           ┆           ┆   ┆           ┆           ┆           ┆ i32      │\n",
       "╞═══════════╪═══════════╪═══════════╪═══════════╪═══╪═══════════╪═══════════╪═══════════╪══════════╡\n",
       "│ 2022-05-1 ┆ 457.64999 ┆ 460.95001 ┆ 457.64999 ┆ … ┆ 10000     ┆ 10000     ┆ 0         ┆ 0        │\n",
       "│ 8         ┆ 4         ┆ 2         ┆ 4         ┆   ┆           ┆           ┆           ┆          │\n",
       "│ 08:45:00  ┆           ┆           ┆           ┆   ┆           ┆           ┆           ┆          │\n",
       "│ UTC       ┆           ┆           ┆           ┆   ┆           ┆           ┆           ┆          │\n",
       "└───────────┴───────────┴───────────┴───────────┴───┴───────────┴───────────┴───────────┴──────────┘"
      ]
     },
     "execution_count": 3,
     "metadata": {},
     "output_type": "execute_result"
    }
   ],
   "source": [
    "df = pl.read_parquet(TRAIN_FILE)\n",
    "df.head(1)"
   ]
  },
  {
   "cell_type": "code",
   "execution_count": 4,
   "metadata": {},
   "outputs": [
    {
     "ename": "NameError",
     "evalue": "name 'df' is not defined",
     "output_type": "error",
     "traceback": [
      "\u001b[0;31m---------------------------------------------------------------------------\u001b[0m",
      "\u001b[0;31mNameError\u001b[0m                                 Traceback (most recent call last)",
      "\u001b[1;32m/home/dhruv/Projects/stock-prediction-2/notebooks/debug_env.ipynb Cell 4\u001b[0m line \u001b[0;36m2\n\u001b[1;32m      <a href='vscode-notebook-cell:/home/dhruv/Projects/stock-prediction-2/notebooks/debug_env.ipynb#W3sZmlsZQ%3D%3D?line=0'>1</a>\u001b[0m \u001b[39mfrom\u001b[39;00m \u001b[39mdatetime\u001b[39;00m \u001b[39mimport\u001b[39;00m datetime\n\u001b[0;32m----> <a href='vscode-notebook-cell:/home/dhruv/Projects/stock-prediction-2/notebooks/debug_env.ipynb#W3sZmlsZQ%3D%3D?line=1'>2</a>\u001b[0m df\u001b[39m.\u001b[39mset_sorted(\u001b[39m'\u001b[39m\u001b[39mDatetime\u001b[39m\u001b[39m'\u001b[39m)\u001b[39m.\u001b[39mfilter(pl\u001b[39m.\u001b[39mcol(\u001b[39m\"\u001b[39m\u001b[39mDatetime\u001b[39m\u001b[39m\"\u001b[39m)\u001b[39m.\u001b[39mdt\u001b[39m.\u001b[39mdate() \u001b[39m==\u001b[39m (datetime(\u001b[39m2022\u001b[39m,\u001b[39m11\u001b[39m,\u001b[39m17\u001b[39m)))\n",
      "\u001b[0;31mNameError\u001b[0m: name 'df' is not defined"
     ]
    }
   ],
   "source": [
    "from datetime import datetime\n",
    "\n",
    "df.set_sorted(\"Datetime\").filter(\n",
    "    pl.col(\"Datetime\").dt.date() == (datetime(2022, 11, 17))\n",
    ")"
   ]
  },
  {
   "cell_type": "code",
   "execution_count": 106,
   "metadata": {},
   "outputs": [
    {
     "data": {
      "text/html": [
       "<div><style>\n",
       ".dataframe > thead > tr,\n",
       ".dataframe > tbody > tr {\n",
       "  text-align: right;\n",
       "  white-space: pre-wrap;\n",
       "}\n",
       "</style>\n",
       "<small>shape: (19, 4)</small><table border=\"1\" class=\"dataframe\"><thead><tr><th>counter</th><th>buy_price</th><th>shares_holding</th><th>sell_price</th></tr><tr><td>i64</td><td>str</td><td>str</td><td>str</td></tr></thead><tbody><tr><td>4</td><td>&quot;469.6&quot;</td><td>&quot;21.0&quot;</td><td>null</td></tr><tr><td>441</td><td>null</td><td>&quot;21.0&quot;</td><td>&quot;526.4&quot;</td></tr><tr><td>461</td><td>&quot;528.0&quot;</td><td>&quot;21.0&quot;</td><td>null</td></tr><tr><td>529</td><td>null</td><td>&quot;21.0&quot;</td><td>&quot;558.2&quot;</td></tr><tr><td>614</td><td>&quot;520.35&quot;</td><td>&quot;22.0&quot;</td><td>null</td></tr><tr><td>789</td><td>null</td><td>&quot;22.0&quot;</td><td>&quot;615.9&quot;</td></tr><tr><td>803</td><td>&quot;601.5&quot;</td><td>&quot;23.0&quot;</td><td>null</td></tr><tr><td>1149</td><td>null</td><td>&quot;23.0&quot;</td><td>&quot;594.6&quot;</td></tr><tr><td>1203</td><td>&quot;527.0&quot;</td><td>&quot;26.0&quot;</td><td>null</td></tr><tr><td>1671</td><td>null</td><td>&quot;26.0&quot;</td><td>&quot;581.8&quot;</td></tr><tr><td>1693</td><td>&quot;576.35&quot;</td><td>&quot;26.0&quot;</td><td>null</td></tr><tr><td>1749</td><td>null</td><td>&quot;26.0&quot;</td><td>&quot;592.8&quot;</td></tr><tr><td>1771</td><td>&quot;588.7&quot;</td><td>&quot;26.0&quot;</td><td>null</td></tr><tr><td>1776</td><td>null</td><td>&quot;26.0&quot;</td><td>&quot;587.7&quot;</td></tr><tr><td>1784</td><td>&quot;585.3&quot;</td><td>&quot;26.0&quot;</td><td>null</td></tr><tr><td>1800</td><td>null</td><td>&quot;26.0&quot;</td><td>&quot;580.9&quot;</td></tr><tr><td>1817</td><td>&quot;575.05&quot;</td><td>&quot;26.0&quot;</td><td>null</td></tr><tr><td>1841</td><td>null</td><td>&quot;26.0&quot;</td><td>&quot;568.75&quot;</td></tr><tr><td>1870</td><td>&quot;558.35&quot;</td><td>&quot;27.0&quot;</td><td>null</td></tr></tbody></table></div>"
      ],
      "text/plain": [
       "shape: (19, 4)\n",
       "┌─────────┬───────────┬────────────────┬────────────┐\n",
       "│ counter ┆ buy_price ┆ shares_holding ┆ sell_price │\n",
       "│ ---     ┆ ---       ┆ ---            ┆ ---        │\n",
       "│ i64     ┆ str       ┆ str            ┆ str        │\n",
       "╞═════════╪═══════════╪════════════════╪════════════╡\n",
       "│ 4       ┆ 469.6     ┆ 21.0           ┆ null       │\n",
       "│ 441     ┆ null      ┆ 21.0           ┆ 526.4      │\n",
       "│ 461     ┆ 528.0     ┆ 21.0           ┆ null       │\n",
       "│ 529     ┆ null      ┆ 21.0           ┆ 558.2      │\n",
       "│ …       ┆ …         ┆ …              ┆ …          │\n",
       "│ 1800    ┆ null      ┆ 26.0           ┆ 580.9      │\n",
       "│ 1817    ┆ 575.05    ┆ 26.0           ┆ null       │\n",
       "│ 1841    ┆ null      ┆ 26.0           ┆ 568.75     │\n",
       "│ 1870    ┆ 558.35    ┆ 27.0           ┆ null       │\n",
       "└─────────┴───────────┴────────────────┴────────────┘"
      ]
     },
     "execution_count": 106,
     "metadata": {},
     "output_type": "execute_result"
    }
   ],
   "source": [
    "import json\n",
    "\n",
    "track_portfolio = json.loads(\n",
    "    Path(\n",
    "        \"../logs/single_stock_trading_past_n_price_portfolio_reward_a2c/6784000\"\n",
    "    ).read_text()\n",
    ")[\"track_portfolio\"]\n",
    "pl.DataFrame(track_portfolio)"
   ]
  },
  {
   "cell_type": "code",
   "execution_count": 144,
   "metadata": {},
   "outputs": [
    {
     "data": {
      "text/plain": [
       "<xlsxwriter.workbook.Workbook at 0x7f71bacc6190>"
      ]
     },
     "execution_count": 144,
     "metadata": {},
     "output_type": "execute_result"
    }
   ],
   "source": [
    "(\n",
    "    df.with_columns(index=pl.int_range(0, end=df.shape[0], eager=True))\n",
    "    .sort(\"index\")\n",
    "    .set_sorted(\"index\")\n",
    "    .group_by_dynamic(\n",
    "        \"index\", every=\"1i\", period=\"40i\", include_boundaries=True, closed=\"right\"\n",
    "    )\n",
    "    .agg(pl.col(\"Close\"))\n",
    "    .with_columns(pl.col(\"Close\").list.len().alias(\"Count\"))\n",
    "    .filter(pl.col(\"Count\") == 40)\n",
    "    .select(pl.col(\"Close\"))\n",
    "    .with_columns(\n",
    "        [\n",
    "            pl.col(\"Close\").alias(\"past_n_prices\"),\n",
    "            pl.col(\"Close\").list.min().alias(\"min\"),\n",
    "            pl.col(\"Close\").list.max().alias(\"max\"),\n",
    "            pl.col(\"Close\").list.mean().alias(\"mean\"),\n",
    "            pl.col(\"Close\").list.last().alias(\"close\"),\n",
    "        ]\n",
    "    )\n",
    "    .with_columns(\n",
    "        [\n",
    "            ((pl.col(\"close\") - pl.col(\"min\")) / (pl.col(\"max\") - pl.col(\"min\")) * 100)\n",
    "            .round(2)\n",
    "            .alias(\"percentage_distance_from_min\")\n",
    "        ]\n",
    "    )\n",
    "    .with_columns(\n",
    "        [\n",
    "            (100 - pl.col(\"percentage_distance_from_min\")).alias(\n",
    "                \"percentage_distance_from_max\"\n",
    "            )\n",
    "        ]\n",
    "    )\n",
    "    .with_columns(\n",
    "        [\n",
    "            (pl.lit(5) > pl.col(\"percentage_distance_from_min\")).alias(\n",
    "                \"closer_to_min_price_with_threshold\"\n",
    "            ),\n",
    "            pl.int_range(0, pl.count()).alias(\"index\"),\n",
    "        ]\n",
    "    )\n",
    "    .join(\n",
    "        pl.DataFrame(track_portfolio), left_on=\"index\", right_on=\"counter\", how=\"outer\"\n",
    "    )\n",
    "    .drop([\"Close\", \"index\"])\n",
    "    .with_columns(\n",
    "        pl.when(pl.col(\"buy_price\").is_not_null())\n",
    "        .then(pl.lit(\"BUY\"))\n",
    "        .when(pl.col(\"sell_price\").is_not_null())\n",
    "        .then(pl.lit(\"SELL\"))\n",
    "        .otherwise(pl.lit(\"HOLD\"))\n",
    "        .alias(\"model_predicted\")\n",
    "    )\n",
    "    .with_columns(\n",
    "        [\n",
    "            (pl.col(\"model_predicted\") == \"BUY\").cum_sum().alias(\"region_start\"),\n",
    "            (pl.col(\"model_predicted\") == \"SELL\")\n",
    "            .cum_sum()\n",
    "            .shift(1)\n",
    "            .alias(\"region_end\"),\n",
    "        ]\n",
    "    )\n",
    "    .with_columns(\n",
    "        [(pl.col(\"region_start\") - pl.col(\"region_end\")).alias(\"fill_region\")]\n",
    "    )\n",
    "    .with_columns(\n",
    "        [\n",
    "            pl.when(pl.col(\"fill_region\") > 0)\n",
    "            .then(pl.col(\"shares_holding\").forward_fill())\n",
    "            .otherwise(pl.col(\"shares_holding\"))\n",
    "            .alias(\"shares_holding\")\n",
    "        ]\n",
    "    )\n",
    "    .with_columns(\n",
    "        [\n",
    "            pl.when(pl.col(\"fill_region\") > 0)\n",
    "            .then(pl.col(\"buy_price\").forward_fill())\n",
    "            .otherwise(pl.col(\"buy_price\"))\n",
    "            .alias(\"buy_price\")\n",
    "        ]\n",
    "    )\n",
    "    .drop([\"region_start\", \"region_end\", \"fill_region\"])\n",
    "    .with_columns(\n",
    "        [\n",
    "            pl.when(\n",
    "                (pl.col(\"model_predicted\") == \"HOLD\")\n",
    "                & (pl.col(\"shares_holding\").is_null())\n",
    "                & (pl.col(\"closer_to_min_price_with_threshold\"))\n",
    "            )\n",
    "            .then((-(pl.col(\"percentage_distance_from_max\")) * 10))\n",
    "            .alias(\"reward\")\n",
    "        ]\n",
    "    )\n",
    "    .with_columns(\n",
    "        [\n",
    "            pl.when(\n",
    "                (pl.col(\"model_predicted\") == \"HOLD\")\n",
    "                & (pl.col(\"shares_holding\").is_null())\n",
    "                & (~pl.col(\"closer_to_min_price_with_threshold\"))\n",
    "            )\n",
    "            .then(pl.col(\"percentage_distance_from_max\"))\n",
    "            .alias(\"reward\")\n",
    "        ]\n",
    "    )\n",
    "    .with_columns(\n",
    "        [\n",
    "            pl.when(\n",
    "                (pl.col(\"model_predicted\") == \"BUY\")\n",
    "                & (pl.col(\"closer_to_min_price_with_threshold\"))\n",
    "            )\n",
    "            .then(pl.col(\"percentage_distance_from_max\"))\n",
    "            .otherwise(pl.col(\"reward\"))\n",
    "            .alias(\"reward\")\n",
    "        ]\n",
    "    )\n",
    "    .with_columns(\n",
    "        [\n",
    "            pl.when(\n",
    "                (pl.col(\"model_predicted\") == \"BUY\")\n",
    "                & (~pl.col(\"closer_to_min_price_with_threshold\"))\n",
    "            )\n",
    "            .then(-pl.col(\"percentage_distance_from_max\"))\n",
    "            .otherwise(pl.col(\"reward\"))\n",
    "            .alias(\"reward\")\n",
    "        ]\n",
    "    )\n",
    "    .with_columns(\n",
    "        [\n",
    "            pl.when(\n",
    "                (pl.col(\"model_predicted\") == \"HOLD\")\n",
    "                & (~pl.col(\"closer_to_min_price_with_threshold\"))\n",
    "            )\n",
    "            .then(-pl.col(\"percentage_distance_from_max\"))\n",
    "            .otherwise(pl.col(\"reward\"))\n",
    "            .alias(\"reward\")\n",
    "        ]\n",
    "    )\n",
    "    .with_columns(\n",
    "        [\n",
    "            pl.col(\"sell_price\").cast(pl.Float32),\n",
    "            pl.col(\"buy_price\").cast(pl.Float32),\n",
    "            pl.col(\"shares_holding\").cast(pl.Float32),\n",
    "        ]\n",
    "    )\n",
    "    .with_columns(\n",
    "        [\n",
    "            pl.when((pl.col(\"model_predicted\") == \"SELL\"))\n",
    "            .then(\n",
    "                (\n",
    "                    pl.col(\"sell_price\") * pl.col(\"shares_holding\")\n",
    "                    - pl.col(\"buy_price\") * pl.col(\"shares_holding\")\n",
    "                )\n",
    "            )\n",
    "            .otherwise(pl.col(\"reward\"))\n",
    "            .alias(\"reward\")\n",
    "        ]\n",
    "    )\n",
    "    .write_excel(\"../results/eval_results.xlsx\")\n",
    "    # .filter(pl.col(\"model_predicted\")==\"BUY\")\n",
    "    # .select(\"reward\")\n",
    ")"
   ]
  },
  {
   "cell_type": "code",
   "execution_count": 13,
   "metadata": {},
   "outputs": [
    {
     "data": {
      "text/html": [
       "<div><style>\n",
       ".dataframe > thead > tr,\n",
       ".dataframe > tbody > tr {\n",
       "  text-align: right;\n",
       "  white-space: pre-wrap;\n",
       "}\n",
       "</style>\n",
       "<small>shape: (1, 84)</small><table border=\"1\" class=\"dataframe\"><thead><tr><th>Datetime</th><th>Close</th><th>High</th><th>Low</th><th>Ticker</th><th>Past1Hour</th><th>Past2Hour</th><th>Past3Hour</th><th>Past4Hour</th><th>Past5Hour</th><th>Past6Hour</th><th>Past7Hour</th><th>Past8Hour</th><th>Past9Hour</th><th>Past10Hour</th><th>Past11Hour</th><th>Past12Hour</th><th>Past13Hour</th><th>Past14Hour</th><th>Past15Hour</th><th>Past16Hour</th><th>Past17Hour</th><th>Past18Hour</th><th>Past19Hour</th><th>Past20Hour</th><th>Past21Hour</th><th>Past22Hour</th><th>Past23Hour</th><th>Past24Hour</th><th>Past25Hour</th><th>Past26Hour</th><th>Past27Hour</th><th>Past28Hour</th><th>Past29Hour</th><th>RSI</th><th>EMA9</th><th>EMA21</th><th>&hellip;</th><th>MOM</th><th>ROC</th><th>WILLR</th><th>PPO</th><th>Previous1Action</th><th>Previous2Action</th><th>Previous3Action</th><th>Previous4Action</th><th>Previous5Action</th><th>Previous6Action</th><th>Previous7Action</th><th>Previous8Action</th><th>Previous9Action</th><th>Previous10Action</th><th>Previous11Action</th><th>Previous12Action</th><th>Previous13Action</th><th>Previous14Action</th><th>Previous15Action</th><th>Previous16Action</th><th>Previous17Action</th><th>Previous18Action</th><th>Previous19Action</th><th>Previous20Action</th><th>Previous21Action</th><th>Previous22Action</th><th>Previous23Action</th><th>Previous24Action</th><th>Previous25Action</th><th>Previous26Action</th><th>Previous27Action</th><th>Previous28Action</th><th>Previous29Action</th><th>PortfolioValue</th><th>AvailableAmount</th><th>SharesHolding</th><th>CummulativeProfitLoss</th></tr><tr><td>datetime[ns, UTC]</td><td>f64</td><td>f64</td><td>f64</td><td>str</td><td>f64</td><td>f64</td><td>f64</td><td>f64</td><td>f64</td><td>f64</td><td>f64</td><td>f64</td><td>f64</td><td>f64</td><td>f64</td><td>f64</td><td>f64</td><td>f64</td><td>f64</td><td>f64</td><td>f64</td><td>f64</td><td>f64</td><td>f64</td><td>f64</td><td>f64</td><td>f64</td><td>f64</td><td>f64</td><td>f64</td><td>f64</td><td>f64</td><td>f64</td><td>f64</td><td>f64</td><td>f64</td><td>&hellip;</td><td>f64</td><td>f64</td><td>f64</td><td>f64</td><td>i32</td><td>i32</td><td>i32</td><td>i32</td><td>i32</td><td>i32</td><td>i32</td><td>i32</td><td>i32</td><td>i32</td><td>i32</td><td>i32</td><td>i32</td><td>i32</td><td>i32</td><td>i32</td><td>i32</td><td>i32</td><td>i32</td><td>i32</td><td>i32</td><td>i32</td><td>i32</td><td>i32</td><td>i32</td><td>i32</td><td>i32</td><td>i32</td><td>i32</td><td>i32</td><td>i32</td><td>i32</td><td>i32</td></tr></thead><tbody><tr><td>2022-11-17 08:45:00 UTC</td><td>598.599976</td><td>602.5</td><td>598.25</td><td>&quot;SBIN.NS&quot;</td><td>601.599976</td><td>599.799988</td><td>597.200012</td><td>597.900024</td><td>598.099976</td><td>599.75</td><td>599.650024</td><td>599.849976</td><td>600.349976</td><td>601.25</td><td>601.099976</td><td>602.650024</td><td>601.5</td><td>599.950012</td><td>597.5</td><td>595.849976</td><td>594.599976</td><td>596.900024</td><td>598.0</td><td>592.900024</td><td>592.400024</td><td>596.400024</td><td>597.25</td><td>597.5</td><td>598.700012</td><td>599.650024</td><td>600.900024</td><td>601.5</td><td>600.950012</td><td>47.55773</td><td>599.324855</td><td>599.453901</td><td>&hellip;</td><td>-2.650024</td><td>-0.440753</td><td>-65.333659</td><td>0.207244</td><td>1</td><td>1</td><td>1</td><td>1</td><td>1</td><td>1</td><td>1</td><td>1</td><td>1</td><td>1</td><td>1</td><td>1</td><td>1</td><td>1</td><td>1</td><td>1</td><td>1</td><td>1</td><td>1</td><td>1</td><td>1</td><td>1</td><td>1</td><td>1</td><td>1</td><td>1</td><td>1</td><td>1</td><td>1</td><td>10000</td><td>10000</td><td>0</td><td>0</td></tr></tbody></table></div>"
      ],
      "text/plain": [
       "shape: (1, 84)\n",
       "┌────────────┬────────────┬───────┬────────┬───┬────────────┬────────────┬────────────┬────────────┐\n",
       "│ Datetime   ┆ Close      ┆ High  ┆ Low    ┆ … ┆ PortfolioV ┆ AvailableA ┆ SharesHold ┆ Cummulativ │\n",
       "│ ---        ┆ ---        ┆ ---   ┆ ---    ┆   ┆ alue       ┆ mount      ┆ ing        ┆ eProfitLos │\n",
       "│ datetime[n ┆ f64        ┆ f64   ┆ f64    ┆   ┆ ---        ┆ ---        ┆ ---        ┆ s          │\n",
       "│ s, UTC]    ┆            ┆       ┆        ┆   ┆ i32        ┆ i32        ┆ i32        ┆ ---        │\n",
       "│            ┆            ┆       ┆        ┆   ┆            ┆            ┆            ┆ i32        │\n",
       "╞════════════╪════════════╪═══════╪════════╪═══╪════════════╪════════════╪════════════╪════════════╡\n",
       "│ 2022-11-17 ┆ 598.599976 ┆ 602.5 ┆ 598.25 ┆ … ┆ 10000      ┆ 10000      ┆ 0          ┆ 0          │\n",
       "│ 08:45:00   ┆            ┆       ┆        ┆   ┆            ┆            ┆            ┆            │\n",
       "│ UTC        ┆            ┆       ┆        ┆   ┆            ┆            ┆            ┆            │\n",
       "└────────────┴────────────┴───────┴────────┴───┴────────────┴────────────┴────────────┴────────────┘"
      ]
     },
     "execution_count": 13,
     "metadata": {},
     "output_type": "execute_result"
    }
   ],
   "source": [
    "df.filter(pl.col(\"Close\") == 598.5999755859375)"
   ]
  },
  {
   "cell_type": "code",
   "execution_count": 4,
   "metadata": {},
   "outputs": [
    {
     "data": {
      "image/png": "[encoded data removed]",
      "text/plain": [
       "<Figure size 1200x600 with 1 Axes>"
      ]
     },
     "metadata": {},
     "output_type": "display_data"
    }
   ],
   "source": [
    "import matplotlib.pyplot as plt\n",
    "\n",
    "# Plotting the Close price\n",
    "plt.figure(figsize=(12, 6))\n",
    "plt.plot(df[\"Datetime\"], df[\"Close\"], label=\"Close Price\")\n",
    "plt.title(\"SBI Stock Close Price\")\n",
    "plt.xlabel(\"Date\")\n",
    "plt.ylabel(\"Close Price\")\n",
    "plt.legend()\n",
    "plt.grid(True)\n",
    "plt.show()"
   ]
  },
  {
   "cell_type": "code",
   "execution_count": 14,
   "metadata": {},
   "outputs": [
    {
     "data": {
      "text/plain": [
       "14375"
      ]
     },
     "execution_count": 14,
     "metadata": {},
     "output_type": "execute_result"
    }
   ],
   "source": [
    "10000 // 425\n",
    "\n",
    "23 * 625"
   ]
  },
  {
   "cell_type": "code",
   "execution_count": 6,
   "metadata": {},
   "outputs": [
    {
     "data": {
      "text/plain": [
       "array([array([457.6499939 , 458.        , 448.95001221, 447.3999939 ,\n",
       "              446.8999939 , 447.3999939 , 447.20001221, 446.8999939 ,\n",
       "              449.20001221, 460.        , 459.3999939 , 458.54998779,\n",
       "              463.45001221, 462.8999939 , 462.79998779, 462.3999939 ,\n",
       "              465.75      , 466.6499939 , 470.45001221, 467.75      ,\n",
       "              464.        , 460.54998779, 461.        , 464.8999939 ,\n",
       "              462.95001221, 465.3500061 , 462.20001221, 462.45001221,\n",
       "              461.6499939 , 463.3999939 , 461.54998779, 463.5       ,\n",
       "              458.6499939 , 457.1000061 , 458.20001221, 454.79998779,\n",
       "              454.1000061 , 454.        , 453.3999939 , 453.3500061 ]),\n",
       "       array([458.        , 448.95001221, 447.3999939 , 446.8999939 ,\n",
       "              447.3999939 , 447.20001221, 446.8999939 , 449.20001221,\n",
       "              460.        , 459.3999939 , 458.54998779, 463.45001221,\n",
       "              462.8999939 , 462.79998779, 462.3999939 , 465.75      ,\n",
       "              466.6499939 , 470.45001221, 467.75      , 464.        ,\n",
       "              460.54998779, 461.        , 464.8999939 , 462.95001221,\n",
       "              465.3500061 , 462.20001221, 462.45001221, 461.6499939 ,\n",
       "              463.3999939 , 461.54998779, 463.5       , 458.6499939 ,\n",
       "              457.1000061 , 458.20001221, 454.79998779, 454.1000061 ,\n",
       "              454.        , 453.3999939 , 453.3500061 , 458.75      ]),\n",
       "       array([448.95001221, 447.3999939 , 446.8999939 , 447.3999939 ,\n",
       "              447.20001221, 446.8999939 , 449.20001221, 460.        ,\n",
       "              459.3999939 , 458.54998779, 463.45001221, 462.8999939 ,\n",
       "              462.79998779, 462.3999939 , 465.75      , 466.6499939 ,\n",
       "              470.45001221, 467.75      , 464.        , 460.54998779,\n",
       "              461.        , 464.8999939 , 462.95001221, 465.3500061 ,\n",
       "              462.20001221, 462.45001221, 461.6499939 , 463.3999939 ,\n",
       "              461.54998779, 463.5       , 458.6499939 , 457.1000061 ,\n",
       "              458.20001221, 454.79998779, 454.1000061 , 454.        ,\n",
       "              453.3999939 , 453.3500061 , 458.75      , 462.5       ]),\n",
       "       ...,\n",
       "       array([617.29998779, 617.5       , 616.20001221, 617.95001221,\n",
       "              615.29998779, 616.75      , 617.        , 619.5       ,\n",
       "              616.59997559, 616.25      , 615.65002441, 615.70001221,\n",
       "              615.79998779, 616.04998779, 618.79998779, 619.34997559,\n",
       "              619.25      , 618.95001221, 617.5       , 620.65002441,\n",
       "              620.20001221, 619.65002441, 616.5       , 613.40002441,\n",
       "              612.90002441, 611.40002441, 611.70001221, 612.34997559,\n",
       "              608.40002441, 604.09997559, 602.20001221, 600.5       ,\n",
       "              596.5       , 599.25      , 598.90002441, 592.20001221,\n",
       "              593.04998779, 591.90002441, 590.34997559, 586.        ]),\n",
       "       array([617.5       , 616.20001221, 617.95001221, 615.29998779,\n",
       "              616.75      , 617.        , 619.5       , 616.59997559,\n",
       "              616.25      , 615.65002441, 615.70001221, 615.79998779,\n",
       "              616.04998779, 618.79998779, 619.34997559, 619.25      ,\n",
       "              618.95001221, 617.5       , 620.65002441, 620.20001221,\n",
       "              619.65002441, 616.5       , 613.40002441, 612.90002441,\n",
       "              611.40002441, 611.70001221, 612.34997559, 608.40002441,\n",
       "              604.09997559, 602.20001221, 600.5       , 596.5       ,\n",
       "              599.25      , 598.90002441, 592.20001221, 593.04998779,\n",
       "              591.90002441, 590.34997559, 586.        , 590.79998779]),\n",
       "       array([616.20001221, 617.95001221, 615.29998779, 616.75      ,\n",
       "              617.        , 619.5       , 616.59997559, 616.25      ,\n",
       "              615.65002441, 615.70001221, 615.79998779, 616.04998779,\n",
       "              618.79998779, 619.34997559, 619.25      , 618.95001221,\n",
       "              617.5       , 620.65002441, 620.20001221, 619.65002441,\n",
       "              616.5       , 613.40002441, 612.90002441, 611.40002441,\n",
       "              611.70001221, 612.34997559, 608.40002441, 604.09997559,\n",
       "              602.20001221, 600.5       , 596.5       , 599.25      ,\n",
       "              598.90002441, 592.20001221, 593.04998779, 591.90002441,\n",
       "              590.34997559, 586.        , 590.79998779, 591.40002441])],\n",
       "      dtype=object)"
      ]
     },
     "execution_count": 6,
     "metadata": {},
     "output_type": "execute_result"
    }
   ],
   "source": [
    "TRAIN_FILE = Path(\"../datasets\") / f\"{TICKER}_train\"\n",
    "df = pl.read_parquet(TRAIN_FILE)\n",
    "CLOSE_PRICES = (\n",
    "    df.with_columns(index=pl.int_range(0, end=df.shape[0], eager=True))\n",
    "    .sort(\"index\")\n",
    "    .set_sorted(\"index\")\n",
    "    .group_by_dynamic(\n",
    "        \"index\", every=\"1i\", period=\"40i\", include_boundaries=True, closed=\"right\"\n",
    "    )\n",
    "    .agg(pl.col(\"Close\"))\n",
    "    .with_columns(pl.col(\"Close\").list.len().alias(\"Count\"))\n",
    "    .filter(pl.col(\"Count\") == 40)[\"Close\"]\n",
    "    .to_numpy()\n",
    ")\n",
    "CLOSE_PRICES"
   ]
  },
  {
   "cell_type": "code",
   "execution_count": 39,
   "metadata": {},
   "outputs": [
    {
     "name": "stdout",
     "output_type": "stream",
     "text": [
      "BUY 464.29998779296875 464.29998779296875\n",
      "profit 473.29998779296875 473.29998779296875 180.0\n",
      "BUY 446.8500061035156 446.8500061035156\n",
      "profit 455.3999938964844 455.3999938964844 170.999755859375\n",
      "BUY 478.1499938964844 478.1499938964844\n",
      "profit 491.5 491.5 267.0001220703125\n",
      "BUY 517.0 517.0\n",
      "profit 532.75 532.75 315.0\n",
      "BUY 513.1500244140625 513.1500244140625\n",
      "profit 529.9500122070312 529.9500122070312 335.999755859375\n",
      "BUY 555.7000122070312 555.7000122070312\n",
      "loss 540.0999755859375 540.0999755859375 -312.000732421875\n",
      "BUY 522.4500122070312 522.4500122070312\n",
      "profit 538.8499755859375 538.8499755859375 327.999267578125\n",
      "BUY 608.8499755859375 608.8499755859375\n",
      "loss 606.7999877929688 606.7999877929688 -40.999755859375\n",
      "BUY 603.5499877929688 603.5499877929688\n",
      "loss 556.0 556.0 -950.999755859375\n",
      "BUY 535.9000244140625 535.9000244140625\n",
      "loss 528.5999755859375 528.5999755859375 -146.0009765625\n",
      "BUY 533.4500122070312 533.4500122070312\n",
      "loss 521.9500122070312 521.9500122070312 -230.0\n",
      "BUY 565.4500122070312 565.4500122070312\n",
      "profit 585.75 585.75 405.999755859375\n",
      "BUY 578.4500122070312 578.4500122070312\n",
      "profit 592.7000122070312 592.7000122070312 285.0\n",
      "BUY 580.9000244140625 580.9000244140625\n",
      "loss 571.1500244140625 571.1500244140625 -195.0\n",
      "BUY 585.3499755859375 585.3499755859375\n",
      "profit 602.2999877929688 602.2999877929688 339.000244140625\n",
      "BUY 604.0999755859375 604.0999755859375\n",
      "339.000244140625\n"
     ]
    }
   ],
   "source": [
    "buy_flag = False\n",
    "profit = 0\n",
    "buy_price = -1\n",
    "sell_price = -1\n",
    "\n",
    "for i, ecp in enumerate(EVAL_CLOSE_PRICES):\n",
    "    past_prices = ecp\n",
    "    close_price = past_prices[-1]\n",
    "    average_price = sum(ecp) / len(ecp)\n",
    "    past_min_price = min(ecp)\n",
    "    past_max_price = max(ecp)\n",
    "\n",
    "    if close_price == past_min_price and not buy_flag:\n",
    "        print(\"BUY\", close_price, past_min_price)\n",
    "        buy_flag = True\n",
    "        sell_flag = False\n",
    "        buy_price = close_price\n",
    "        continue\n",
    "\n",
    "    if close_price == past_max_price and buy_flag:\n",
    "        p = (close_price - buy_price) * 20\n",
    "        if p > 0:\n",
    "            print(\"profit\", close_price, past_max_price, p)\n",
    "        else:\n",
    "            print(\"loss\", close_price, past_max_price, p)\n",
    "        buy_flag = False\n",
    "        profit += p\n",
    "\n",
    "print(p)"
   ]
  },
  {
   "cell_type": "code",
   "execution_count": 54,
   "metadata": {},
   "outputs": [
    {
     "data": {
      "text/plain": [
       "-14"
      ]
     },
     "execution_count": 54,
     "metadata": {},
     "output_type": "execute_result"
    }
   ],
   "source": [
    "min_price = 604\n",
    "close_price = 618\n",
    "max_price = 619\n",
    "\n",
    "((close_price - min_price) / (max_price - min_price)) * 100\n",
    "\n",
    "min_price - close_price"
   ]
  },
  {
   "cell_type": "code",
   "execution_count": null,
   "metadata": {},
   "outputs": [],
   "source": [
    "[·] Transaction #1874: Missed Buying Opportunity. Duration of Waiting: 1874 intervals. Current Share Price: ₹554.75. Average Price 565.5825012207031 is less than Buying Price 0.0 Minimum Price 554.75 Maximum Price 570.9000244140625 Reward Accumulated: ₹0.0. Portfolio Value: ₹10000.0."
   ]
  },
  {
   "cell_type": "code",
   "execution_count": 46,
   "metadata": {},
   "outputs": [
    {
     "data": {
      "text/plain": [
       "(73.33333333333333, 26.66666666666667, False)"
      ]
     },
     "execution_count": 46,
     "metadata": {},
     "output_type": "execute_result"
    }
   ],
   "source": [
    "close_price = 615\n",
    "min_price = 604\n",
    "max_price = 619\n",
    "percentage_buy_threshold = 5\n",
    "\n",
    "\n",
    "# Recalculating the percentage distance from min_price and max_price\n",
    "percentage_distance_from_min = (\n",
    "    (close_price - min_price) / (max_price - min_price)\n",
    ") * 100\n",
    "percentage_distance_from_max = 100 - percentage_distance_from_min\n",
    "\n",
    "closer_to_min_price_with_threshold = (\n",
    "    percentage_buy_threshold > percentage_distance_from_min\n",
    ")\n",
    "\n",
    "percentage_distance_from_min, percentage_distance_from_max, closer_to_min_price_with_threshold"
   ]
  },
  {
   "cell_type": "code",
   "execution_count": 14,
   "metadata": {},
   "outputs": [
    {
     "data": {
      "text/plain": [
       "array([  457.65,   458.  ,   448.95,   447.4 ,   446.9 ,   447.4 ,\n",
       "         447.2 ,   446.9 ,   449.2 ,   460.  ,   459.4 ,   458.55,\n",
       "         463.45,   462.9 ,   462.8 ,   462.4 ,   465.75,   466.65,\n",
       "         470.45,   467.75,   464.  ,   460.55,   461.  ,   464.9 ,\n",
       "         462.95,   465.35,   462.2 ,   462.45,   461.65,   463.4 ,\n",
       "         461.55,   463.5 ,   458.65,   457.1 ,   458.2 ,   454.8 ,\n",
       "         454.1 ,   454.  ,   453.4 ,   453.35, 10000.  ,     0.  ,\n",
       "           0.  ,     0.  , 10000.  ], dtype=float32)"
      ]
     },
     "execution_count": 14,
     "metadata": {},
     "output_type": "execute_result"
    }
   ],
   "source": [
    "past_n_prices = EVAL_CLOSE_PRICES[0]\n",
    "close_price = past_n_prices[-1]\n",
    "available_amount = 10_000\n",
    "shares_holding = 0\n",
    "buy_price = 0\n",
    "profit = 0\n",
    "portfolio_value = available_amount\n",
    "\n",
    "state = np.concatenate(\n",
    "    (\n",
    "        past_n_prices,\n",
    "        np.array(\n",
    "            (available_amount, shares_holding, buy_price, profit, portfolio_value)\n",
    "        ),\n",
    "    ),\n",
    "    dtype=np.float32,\n",
    ")\n",
    "state"
   ]
  },
  {
   "cell_type": "code",
   "execution_count": 24,
   "metadata": {},
   "outputs": [
    {
     "data": {
      "text/plain": [
       "10000.0"
      ]
     },
     "execution_count": 24,
     "metadata": {},
     "output_type": "execute_result"
    }
   ],
   "source": [
    "past_n_prices = state[:-5]\n",
    "close_price = past_n_prices[-1]\n",
    "available_amount = state[-5]\n",
    "shares_holding = state[-4]\n",
    "buy_price = state[-3]\n",
    "profit = state[-2]\n",
    "portfolio_value = state[-1]\n",
    "\n",
    "portfolio_value"
   ]
  },
  {
   "cell_type": "code",
   "execution_count": 7,
   "metadata": {},
   "outputs": [
    {
     "ename": "ValueError",
     "evalue": "The truth value of an array with more than one element is ambiguous. Use a.any() or a.all()",
     "output_type": "error",
     "traceback": [
      "\u001b[0;31m---------------------------------------------------------------------------\u001b[0m",
      "\u001b[0;31mValueError\u001b[0m                                Traceback (most recent call last)",
      "\u001b[1;32m/home/dhruv/Projects/stock-prediction-2/notebooks/debug_env.ipynb Cell 17\u001b[0m line \u001b[0;36m1\n\u001b[0;32m----> <a href='vscode-notebook-cell:/home/dhruv/Projects/stock-prediction-2/notebooks/debug_env.ipynb#X25sZmlsZQ%3D%3D?line=0'>1</a>\u001b[0m check_env(StockTradingEnv(CLOSE_PRICES, seed\u001b[39m=\u001b[39;49m\u001b[39m0\u001b[39;49m))\n",
      "File \u001b[0;32m~/Projects/stock-prediction-2/notebooks/../envs/single_stock_trading_env.py:25\u001b[0m, in \u001b[0;36mStockTradingEnv.__init__\u001b[0;34m(self, close_prices, seed)\u001b[0m\n\u001b[1;32m     22\u001b[0m \u001b[39msuper\u001b[39m()\u001b[39m.\u001b[39m\u001b[39m__init__\u001b[39m()\n\u001b[1;32m     24\u001b[0m \u001b[39mself\u001b[39m\u001b[39m.\u001b[39mclose_prices \u001b[39m=\u001b[39m close_prices\n\u001b[0;32m---> 25\u001b[0m low \u001b[39m=\u001b[39m np\u001b[39m.\u001b[39;49mmin(close_prices)\n\u001b[1;32m     26\u001b[0m high \u001b[39m=\u001b[39m np\u001b[39m.\u001b[39mmax(close_prices) \u001b[39m*\u001b[39m \u001b[39m10\u001b[39m\n\u001b[1;32m     27\u001b[0m \u001b[39mself\u001b[39m\u001b[39m.\u001b[39mlength \u001b[39m=\u001b[39m \u001b[39mlen\u001b[39m(\u001b[39mself\u001b[39m\u001b[39m.\u001b[39mclose_prices)\n",
      "File \u001b[0;32m<__array_function__ internals>:200\u001b[0m, in \u001b[0;36mamin\u001b[0;34m(*args, **kwargs)\u001b[0m\n",
      "File \u001b[0;32m~/micromamba/envs/tradingrl/lib/python3.11/site-packages/numpy/core/fromnumeric.py:2946\u001b[0m, in \u001b[0;36mamin\u001b[0;34m(a, axis, out, keepdims, initial, where)\u001b[0m\n\u001b[1;32m   2829\u001b[0m \u001b[39m@array_function_dispatch\u001b[39m(_amin_dispatcher)\n\u001b[1;32m   2830\u001b[0m \u001b[39mdef\u001b[39;00m \u001b[39mamin\u001b[39m(a, axis\u001b[39m=\u001b[39m\u001b[39mNone\u001b[39;00m, out\u001b[39m=\u001b[39m\u001b[39mNone\u001b[39;00m, keepdims\u001b[39m=\u001b[39mnp\u001b[39m.\u001b[39m_NoValue, initial\u001b[39m=\u001b[39mnp\u001b[39m.\u001b[39m_NoValue,\n\u001b[1;32m   2831\u001b[0m          where\u001b[39m=\u001b[39mnp\u001b[39m.\u001b[39m_NoValue):\n\u001b[1;32m   2832\u001b[0m \u001b[39m    \u001b[39m\u001b[39m\"\"\"\u001b[39;00m\n\u001b[1;32m   2833\u001b[0m \u001b[39m    Return the minimum of an array or minimum along an axis.\u001b[39;00m\n\u001b[1;32m   2834\u001b[0m \n\u001b[0;32m   (...)\u001b[0m\n\u001b[1;32m   2944\u001b[0m \u001b[39m    6\u001b[39;00m\n\u001b[1;32m   2945\u001b[0m \u001b[39m    \"\"\"\u001b[39;00m\n\u001b[0;32m-> 2946\u001b[0m     \u001b[39mreturn\u001b[39;00m _wrapreduction(a, np\u001b[39m.\u001b[39;49mminimum, \u001b[39m'\u001b[39;49m\u001b[39mmin\u001b[39;49m\u001b[39m'\u001b[39;49m, axis, \u001b[39mNone\u001b[39;49;00m, out,\n\u001b[1;32m   2947\u001b[0m                           keepdims\u001b[39m=\u001b[39;49mkeepdims, initial\u001b[39m=\u001b[39;49minitial, where\u001b[39m=\u001b[39;49mwhere)\n",
      "File \u001b[0;32m~/micromamba/envs/tradingrl/lib/python3.11/site-packages/numpy/core/fromnumeric.py:86\u001b[0m, in \u001b[0;36m_wrapreduction\u001b[0;34m(obj, ufunc, method, axis, dtype, out, **kwargs)\u001b[0m\n\u001b[1;32m     83\u001b[0m         \u001b[39melse\u001b[39;00m:\n\u001b[1;32m     84\u001b[0m             \u001b[39mreturn\u001b[39;00m reduction(axis\u001b[39m=\u001b[39maxis, out\u001b[39m=\u001b[39mout, \u001b[39m*\u001b[39m\u001b[39m*\u001b[39mpasskwargs)\n\u001b[0;32m---> 86\u001b[0m \u001b[39mreturn\u001b[39;00m ufunc\u001b[39m.\u001b[39;49mreduce(obj, axis, dtype, out, \u001b[39m*\u001b[39;49m\u001b[39m*\u001b[39;49mpasskwargs)\n",
      "\u001b[0;31mValueError\u001b[0m: The truth value of an array with more than one element is ambiguous. Use a.any() or a.all()"
     ]
    }
   ],
   "source": [
    "check_env(StockTradingEnv(CLOSE_PRICES, seed=0))"
   ]
  },
  {
   "cell_type": "code",
   "execution_count": 4,
   "metadata": {},
   "outputs": [],
   "source": [
    "env = StockTradingEnv(CLOSE_PRICES, seed=0)"
   ]
  },
  {
   "cell_type": "code",
   "execution_count": 5,
   "metadata": {},
   "outputs": [
    {
     "data": {
      "text/plain": [
       "(array([  457.65, 10000.  ,     0.  ,     0.  ], dtype=float32), {})"
      ]
     },
     "execution_count": 5,
     "metadata": {},
     "output_type": "execute_result"
    }
   ],
   "source": [
    "obs, info = env.reset()\n",
    "obs, info"
   ]
  },
  {
   "cell_type": "code",
   "execution_count": 9,
   "metadata": {},
   "outputs": [
    {
     "data": {
      "text/plain": [
       "{'seed': 0,\n",
       " 'counter': 3,\n",
       " 'close_price': 447.4,\n",
       " 'predicted_action': 'SELL',\n",
       " 'description': '22.0 shares sold at 447.40 with profit of -34.1005859375',\n",
       " 'available_amount': 9965.899,\n",
       " 'shares_holdings': 0,\n",
       " 'buy_price': 0,\n",
       " 'buy_price_index': -1,\n",
       " 'reward': -34.1005859375,\n",
       " 'done': False,\n",
       " 'truncated': False,\n",
       " 'correct_trade': 4,\n",
       " 'wrong_trade': 0,\n",
       " 'correct_trade %': 100.0,\n",
       " 'buy_counter': 1,\n",
       " 'sell_counter': 1,\n",
       " 'hold_counter': 0,\n",
       " 'good_hold_counter': 0,\n",
       " 'good_sell_counter': 0,\n",
       " 'good_buy_counter': 1,\n",
       " 'bad_hold_counter': 0,\n",
       " 'bad_sell_counter': 1,\n",
       " 'bad_buy_counter': 0,\n",
       " 'hold_with_no_shares_counter': 2,\n",
       " 'good_hold_streak': 0,\n",
       " 'bad_hold_streak': 0,\n",
       " 'buy_counter %': 25.0,\n",
       " 'good_sell_counter %': 0,\n",
       " 'good_hold_counter %': 0,\n",
       " 'bad_sell_counter %': 25.0,\n",
       " 'bad_hold_counter %': 0,\n",
       " 'holds_with_no_shares_counter %': 50.0,\n",
       " 'good_hold_profit': 0,\n",
       " 'good_sell_profit': 0,\n",
       " 'good_buy_profit': 0,\n",
       " 'bad_hold_loss': 0,\n",
       " 'bad_sell_loss': -34.1005859375,\n",
       " 'bad_buy_loss': 0,\n",
       " 'good_moves': 0,\n",
       " 'bad_moves': 1,\n",
       " 'good_moves %': 0,\n",
       " 'reward_tracker': -31.1005859375,\n",
       " 'portfolio_value': 9965.8994140625,\n",
       " 'combined_hold_profit': 0,\n",
       " 'combined_sell_profit': -34.1005859375,\n",
       " 'combined_total_profit': -34.1005859375,\n",
       " 'combined_hold_streak': 0,\n",
       " 'track_portfolio': []}"
      ]
     },
     "execution_count": 9,
     "metadata": {},
     "output_type": "execute_result"
    }
   ],
   "source": [
    "s, r, d, t, i = env.step(2)\n",
    "i"
   ]
  },
  {
   "cell_type": "code",
   "execution_count": 18,
   "metadata": {},
   "outputs": [
    {
     "data": {
      "text/html": [
       "<div><style>\n",
       ".dataframe > thead > tr,\n",
       ".dataframe > tbody > tr {\n",
       "  text-align: right;\n",
       "  white-space: pre-wrap;\n",
       "}\n",
       "</style>\n",
       "<small>shape: (371, 20)</small><table border=\"1\" class=\"dataframe\"><thead><tr><th>Datetime</th><th>Close</th><th>RSI</th><th>EMA9</th><th>EMA21</th><th>MACD</th><th>MACD_SIGNAL</th><th>BBANDS_UPPER</th><th>BBANDS_MIDDLE</th><th>BBANDS_LOWER</th><th>ADX</th><th>STOCH_K</th><th>STOCH_D</th><th>ATR</th><th>CCI</th><th>MOM</th><th>ROC</th><th>WILLR</th><th>PPO</th><th>Actions</th></tr><tr><td>str</td><td>f64</td><td>f64</td><td>f64</td><td>f64</td><td>f64</td><td>f64</td><td>f64</td><td>f64</td><td>f64</td><td>f64</td><td>f64</td><td>f64</td><td>f64</td><td>f64</td><td>f64</td><td>f64</td><td>f64</td><td>f64</td><td>str</td></tr></thead><tbody><tr><td>&quot;2023-08-04 03:…</td><td>592.599976</td><td>34.215289</td><td>593.04732</td><td>599.098184</td><td>-6.307788</td><td>-5.752122</td><td>617.59649</td><td>599.995004</td><td>582.393519</td><td>49.057268</td><td>66.097559</td><td>44.168844</td><td>4.162341</td><td>-56.254793</td><td>-3.900024</td><td>-0.653818</td><td>-68.801719</td><td>-1.776887</td><td>&quot;HOLD&quot;</td></tr><tr><td>&quot;2023-08-04 04:…</td><td>595.200012</td><td>39.898269</td><td>593.477859</td><td>598.743805</td><td>-5.79683</td><td>-5.761063</td><td>615.672932</td><td>599.085004</td><td>582.497075</td><td>49.078604</td><td>80.213751</td><td>61.716574</td><td>4.193601</td><td>-7.76646</td><td>-4.049988</td><td>-0.675843</td><td>-49.502458</td><td>-1.701393</td><td>&quot;HOLD&quot;</td></tr><tr><td>&quot;2023-08-04 05:…</td><td>596.799988</td><td>43.152731</td><td>594.142285</td><td>598.567094</td><td>-5.202812</td><td>-5.649413</td><td>613.624074</td><td>598.280002</td><td>582.93593</td><td>47.995942</td><td>89.26872</td><td>78.526677</td><td>4.158344</td><td>55.752468</td><td>-2.100037</td><td>-0.350649</td><td>-37.994763</td><td>-1.567384</td><td>&quot;HOLD&quot;</td></tr><tr><td>&quot;2023-08-04 06:…</td><td>593.0</td><td>37.903187</td><td>593.913828</td><td>598.060995</td><td>-4.981256</td><td>-5.515782</td><td>611.614952</td><td>597.360001</td><td>583.10505</td><td>47.412213</td><td>75.581632</td><td>81.688034</td><td>4.229174</td><td>18.573737</td><td>0.799988</td><td>0.135087</td><td>-49.683428</td><td>-1.479955</td><td>&quot;HOLD&quot;</td></tr><tr><td>&quot;2023-08-04 07:…</td><td>576.200012</td><td>24.00159</td><td>590.371065</td><td>596.073633</td><td>-6.091075</td><td>-5.63084</td><td>611.045368</td><td>595.585001</td><td>580.124633</td><td>48.706005</td><td>48.939613</td><td>71.263322</td><td>5.516376</td><td>-222.763293</td><td>-16.849976</td><td>-2.84124</td><td>-86.188757</td><td>-1.517362</td><td>&quot;HOLD&quot;</td></tr><tr><td>&quot;2023-08-04 08:…</td><td>573.900024</td><td>22.770303</td><td>587.076857</td><td>594.05785</td><td>-7.074652</td><td>-5.919603</td><td>609.851195</td><td>593.662503</td><td>577.473811</td><td>49.921356</td><td>22.926329</td><td>49.149192</td><td>5.67235</td><td>-233.637316</td><td>-18.0</td><td>-3.041054</td><td>-93.414121</td><td>-1.482601</td><td>&quot;HOLD&quot;</td></tr><tr><td>&quot;2023-08-04 09:…</td><td>573.200012</td><td>22.393764</td><td>584.301488</td><td>592.161683</td><td>-7.82048</td><td>-6.299778</td><td>608.931511</td><td>591.902502</td><td>574.873494</td><td>51.07946</td><td>9.433371</td><td>27.099771</td><td>5.45647</td><td>-190.258119</td><td>-17.149963</td><td>-2.90505</td><td>-94.20779</td><td>-1.48486</td><td>&quot;HOLD&quot;</td></tr><tr><td>&quot;2023-08-07 03:…</td><td>570.900024</td><td>21.155885</td><td>581.621195</td><td>590.228805</td><td>-8.49917</td><td>-6.739656</td><td>608.61177</td><td>590.242505</td><td>571.87324</td><td>52.291359</td><td>6.454252</td><td>12.937984</td><td>5.552435</td><td>-148.452113</td><td>-15.099976</td><td>-2.576788</td><td>-94.237247</td><td>-1.508338</td><td>&quot;HOLD&quot;</td></tr><tr><td>&quot;2023-08-07 04:…</td><td>568.200012</td><td>19.774005</td><td>578.936958</td><td>588.226187</td><td>-9.149436</td><td>-7.221612</td><td>608.403215</td><td>588.542505</td><td>568.681795</td><td>53.533983</td><td>5.361881</td><td>7.083168</td><td>5.50226</td><td>-133.378831</td><td>-22.599976</td><td>-3.825318</td><td>-96.671987</td><td>-1.534055</td><td>&quot;HOLD&quot;</td></tr><tr><td>&quot;2023-08-07 05:…</td><td>569.650024</td><td>22.694395</td><td>577.079572</td><td>586.537445</td><td>-9.438967</td><td>-7.665083</td><td>607.681385</td><td>587.000006</td><td>566.318627</td><td>54.687848</td><td>9.918647</td><td>7.244927</td><td>5.344954</td><td>-105.989029</td><td>-21.75</td><td>-3.677714</td><td>-92.076067</td><td>-1.497092</td><td>&quot;HOLD&quot;</td></tr><tr><td>&quot;2023-08-07 06:…</td><td>568.650024</td><td>22.096986</td><td>575.393662</td><td>584.911316</td><td>-9.638012</td><td>-8.059669</td><td>607.269862</td><td>585.607507</td><td>563.945153</td><td>55.771811</td><td>13.56954</td><td>9.616689</td><td>5.170317</td><td>-92.79697</td><td>-23.949951</td><td>-4.041504</td><td>-95.24564</td><td>-1.533517</td><td>&quot;HOLD&quot;</td></tr><tr><td>&quot;2023-08-07 07:…</td><td>567.099976</td><td>21.166864</td><td>573.734925</td><td>583.292103</td><td>-9.807776</td><td>-8.40929</td><td>606.140548</td><td>584.000006</td><td>561.859464</td><td>56.817814</td><td>13.02227</td><td>12.170152</td><td>4.990291</td><td>-85.823408</td><td>-28.100037</td><td>-4.721108</td><td>-99.371222</td><td>-1.58645</td><td>&quot;BUY&quot;</td></tr><tr><td>&hellip;</td><td>&hellip;</td><td>&hellip;</td><td>&hellip;</td><td>&hellip;</td><td>&hellip;</td><td>&hellip;</td><td>&hellip;</td><td>&hellip;</td><td>&hellip;</td><td>&hellip;</td><td>&hellip;</td><td>&hellip;</td><td>&hellip;</td><td>&hellip;</td><td>&hellip;</td><td>&hellip;</td><td>&hellip;</td><td>&hellip;</td><td>&hellip;</td></tr><tr><td>&quot;2023-10-19 05:…</td><td>572.099976</td><td>40.091818</td><td>572.361677</td><td>574.568594</td><td>-2.569554</td><td>-2.569584</td><td>580.627401</td><td>574.652493</td><td>568.677586</td><td>27.615447</td><td>62.617215</td><td>60.186302</td><td>2.703375</td><td>-49.300465</td><td>-4.5</td><td>-0.780437</td><td>-58.436398</td><td>-0.361489</td><td>&quot;HOLD&quot;</td></tr><tr><td>&quot;2023-10-19 06:…</td><td>571.049988</td><td>37.878801</td><td>572.099339</td><td>574.24872</td><td>-2.527776</td><td>-2.561222</td><td>580.572995</td><td>574.419992</td><td>568.266989</td><td>27.739264</td><td>66.892669</td><td>63.746386</td><td>2.638847</td><td>-54.63383</td><td>-7.450012</td><td>-1.287815</td><td>-67.078255</td><td>-0.397814</td><td>&quot;HOLD&quot;</td></tr><tr><td>&quot;2023-10-19 07:…</td><td>572.150024</td><td>41.520786</td><td>572.109476</td><td>574.05793</td><td>-2.378485</td><td>-2.524675</td><td>580.432322</td><td>574.237494</td><td>568.042666</td><td>27.150208</td><td>74.197107</td><td>67.902331</td><td>2.714645</td><td>-26.283867</td><td>1.800049</td><td>0.315604</td><td>-58.024474</td><td>-0.436676</td><td>&quot;HOLD&quot;</td></tr><tr><td>&quot;2023-10-19 08:…</td><td>570.799988</td><td>38.534884</td><td>571.847578</td><td>573.761753</td><td>-2.342109</td><td>-2.488161</td><td>580.342801</td><td>574.002493</td><td>567.662186</td><td>26.7414</td><td>60.379867</td><td>67.156548</td><td>2.742173</td><td>-56.507262</td><td>-0.5</td><td>-0.08752</td><td>-69.135864</td><td>-0.516702</td><td>&quot;HOLD&quot;</td></tr><tr><td>&quot;2023-10-19 09:…</td><td>571.299988</td><td>40.248709</td><td>571.73806</td><td>573.537956</td><td>-2.247032</td><td>-2.439936</td><td>579.668562</td><td>573.627493</td><td>567.586424</td><td>26.361792</td><td>50.019071</td><td>61.532015</td><td>2.617732</td><td>-52.792638</td><td>-0.400024</td><td>-0.069971</td><td>-65.020646</td><td>-0.464275</td><td>&quot;HOLD&quot;</td></tr><tr><td>&quot;2023-10-20 03:…</td><td>567.849976</td><td>33.340768</td><td>570.960443</td><td>573.020867</td><td>-2.42215</td><td>-2.436378</td><td>579.057924</td><td>573.064993</td><td>567.072062</td><td>27.101044</td><td>31.050206</td><td>47.149715</td><td>2.766466</td><td>-230.296202</td><td>-5.200012</td><td>-0.907427</td><td>-89.878573</td><td>-0.451334</td><td>&quot;HOLD&quot;</td></tr><tr><td>&quot;2023-10-20 04:…</td><td>567.099976</td><td>32.052849</td><td>570.18835</td><td>572.482604</td><td>-2.591576</td><td>-2.467418</td><td>578.517448</td><td>572.502493</td><td>566.487539</td><td>27.984875</td><td>23.204725</td><td>34.758001</td><td>2.722434</td><td>-217.561791</td><td>-5.75</td><td>-1.003753</td><td>-83.536908</td><td>-0.457087</td><td>&quot;HOLD&quot;</td></tr><tr><td>&quot;2023-10-20 05:…</td><td>565.5</td><td>29.440148</td><td>569.25068</td><td>571.847822</td><td>-2.822418</td><td>-2.538418</td><td>578.097183</td><td>571.882492</td><td>565.667801</td><td>29.187172</td><td>16.774566</td><td>23.676499</td><td>2.802973</td><td>-188.358719</td><td>-7.099976</td><td>-1.239954</td><td>-84.924642</td><td>-0.498722</td><td>&quot;HOLD&quot;</td></tr><tr><td>&quot;2023-10-20 06:…</td><td>562.75</td><td>25.580588</td><td>567.950544</td><td>571.020747</td><td>-3.190485</td><td>-2.668831</td><td>578.320449</td><td>571.224991</td><td>564.129533</td><td>30.663505</td><td>13.244616</td><td>17.741302</td><td>2.849186</td><td>-193.516554</td><td>-7.700012</td><td>-1.349814</td><td>-94.915456</td><td>-0.558483</td><td>&quot;HOLD&quot;</td></tr><tr><td>&quot;2023-10-20 07:…</td><td>563.849976</td><td>29.558554</td><td>567.13043</td><td>570.368859</td><td>-3.354751</td><td>-2.806015</td><td>578.006698</td><td>570.607489</td><td>563.20828</td><td>32.034385</td><td>14.975417</td><td>14.998199</td><td>2.824244</td><td>-137.602702</td><td>-6.450012</td><td>-1.130986</td><td>-85.593619</td><td>-0.60804</td><td>&quot;HOLD&quot;</td></tr><tr><td>&quot;2023-10-20 08:…</td><td>563.049988</td><td>28.370787</td><td>566.314342</td><td>569.703507</td><td>-3.509035</td><td>-2.946619</td><td>577.48998</td><td>569.92999</td><td>562.369999</td><td>33.307346</td><td>14.574634</td><td>14.264889</td><td>2.740371</td><td>-119.046659</td><td>-9.049988</td><td>-1.581889</td><td>-92.373184</td><td>-0.610591</td><td>&quot;HOLD&quot;</td></tr><tr><td>&quot;2023-10-20 09:…</td><td>562.700012</td><td>27.843662</td><td>565.591476</td><td>569.066826</td><td>-3.617842</td><td>-3.080864</td><td>576.240874</td><td>569.13999</td><td>562.039106</td><td>34.627365</td><td>15.652008</td><td>15.067353</td><td>2.648203</td><td>-111.187769</td><td>-8.349976</td><td>-1.462214</td><td>-95.339082</td><td>-0.611715</td><td>&quot;HOLD&quot;</td></tr></tbody></table></div>"
      ],
      "text/plain": [
       "shape: (371, 20)\n",
       "┌────────────┬───────────┬───────────┬───────────┬───┬───────────┬───────────┬───────────┬─────────┐\n",
       "│ Datetime   ┆ Close     ┆ RSI       ┆ EMA9      ┆ … ┆ ROC       ┆ WILLR     ┆ PPO       ┆ Actions │\n",
       "│ ---        ┆ ---       ┆ ---       ┆ ---       ┆   ┆ ---       ┆ ---       ┆ ---       ┆ ---     │\n",
       "│ str        ┆ f64       ┆ f64       ┆ f64       ┆   ┆ f64       ┆ f64       ┆ f64       ┆ str     │\n",
       "╞════════════╪═══════════╪═══════════╪═══════════╪═══╪═══════════╪═══════════╪═══════════╪═════════╡\n",
       "│ 2023-08-04 ┆ 592.59997 ┆ 34.215289 ┆ 593.04732 ┆ … ┆ -0.653818 ┆ -68.80171 ┆ -1.776887 ┆ HOLD    │\n",
       "│ 03:45:00   ┆ 6         ┆           ┆           ┆   ┆           ┆ 9         ┆           ┆         │\n",
       "│ 2023-08-04 ┆ 595.20001 ┆ 39.898269 ┆ 593.47785 ┆ … ┆ -0.675843 ┆ -49.50245 ┆ -1.701393 ┆ HOLD    │\n",
       "│ 04:45:00   ┆ 2         ┆           ┆ 9         ┆   ┆           ┆ 8         ┆           ┆         │\n",
       "│ 2023-08-04 ┆ 596.79998 ┆ 43.152731 ┆ 594.14228 ┆ … ┆ -0.350649 ┆ -37.99476 ┆ -1.567384 ┆ HOLD    │\n",
       "│ 05:44:59   ┆ 8         ┆           ┆ 5         ┆   ┆           ┆ 3         ┆           ┆         │\n",
       "│ 2023-08-04 ┆ 593.0     ┆ 37.903187 ┆ 593.91382 ┆ … ┆ 0.135087  ┆ -49.68342 ┆ -1.479955 ┆ HOLD    │\n",
       "│ 06:45:00   ┆           ┆           ┆ 8         ┆   ┆           ┆ 8         ┆           ┆         │\n",
       "│ …          ┆ …         ┆ …         ┆ …         ┆ … ┆ …         ┆ …         ┆ …         ┆ …       │\n",
       "│ 2023-10-20 ┆ 562.75    ┆ 25.580588 ┆ 567.95054 ┆ … ┆ -1.349814 ┆ -94.91545 ┆ -0.558483 ┆ HOLD    │\n",
       "│ 06:45:00   ┆           ┆           ┆ 4         ┆   ┆           ┆ 6         ┆           ┆         │\n",
       "│ 2023-10-20 ┆ 563.84997 ┆ 29.558554 ┆ 567.13043 ┆ … ┆ -1.130986 ┆ -85.59361 ┆ -0.60804  ┆ HOLD    │\n",
       "│ 07:45:00   ┆ 6         ┆           ┆           ┆   ┆           ┆ 9         ┆           ┆         │\n",
       "│ 2023-10-20 ┆ 563.04998 ┆ 28.370787 ┆ 566.31434 ┆ … ┆ -1.581889 ┆ -92.37318 ┆ -0.610591 ┆ HOLD    │\n",
       "│ 08:44:59   ┆ 8         ┆           ┆ 2         ┆   ┆           ┆ 4         ┆           ┆         │\n",
       "│ 2023-10-20 ┆ 562.70001 ┆ 27.843662 ┆ 565.59147 ┆ … ┆ -1.462214 ┆ -95.33908 ┆ -0.611715 ┆ HOLD    │\n",
       "│ 09:45:00   ┆ 2         ┆           ┆ 6         ┆   ┆           ┆ 2         ┆           ┆         │\n",
       "└────────────┴───────────┴───────────┴───────────┴───┴───────────┴───────────┴───────────┴─────────┘"
      ]
     },
     "execution_count": 18,
     "metadata": {},
     "output_type": "execute_result"
    }
   ],
   "source": [
    "df = pl.read_excel(\"../datasets/LabelTradeSBI.NS.xlsx\")\n",
    "df"
   ]
  },
  {
   "cell_type": "code",
   "execution_count": 22,
   "metadata": {},
   "outputs": [
    {
     "ename": "AttributeError",
     "evalue": "'Then' object has no attribute 'then'",
     "output_type": "error",
     "traceback": [
      "\u001b[0;31m---------------------------------------------------------------------------\u001b[0m",
      "\u001b[0;31mAttributeError\u001b[0m                            Traceback (most recent call last)",
      "\u001b[1;32m/home/dhruv/Projects/stock-prediction-2/notebooks/debug_env.ipynb Cell 8\u001b[0m line \u001b[0;36m1\n\u001b[1;32m      <a href='vscode-notebook-cell:/home/dhruv/Projects/stock-prediction-2/notebooks/debug_env.ipynb#X10sZmlsZQ%3D%3D?line=0'>1</a>\u001b[0m \u001b[39m# backtest\u001b[39;00m\n\u001b[1;32m      <a href='vscode-notebook-cell:/home/dhruv/Projects/stock-prediction-2/notebooks/debug_env.ipynb#X10sZmlsZQ%3D%3D?line=1'>2</a>\u001b[0m start_price \u001b[39m=\u001b[39m \u001b[39m10_000\u001b[39m\n\u001b[1;32m      <a href='vscode-notebook-cell:/home/dhruv/Projects/stock-prediction-2/notebooks/debug_env.ipynb#X10sZmlsZQ%3D%3D?line=2'>3</a>\u001b[0m (\n\u001b[1;32m      <a href='vscode-notebook-cell:/home/dhruv/Projects/stock-prediction-2/notebooks/debug_env.ipynb#X10sZmlsZQ%3D%3D?line=3'>4</a>\u001b[0m     df\n\u001b[1;32m      <a href='vscode-notebook-cell:/home/dhruv/Projects/stock-prediction-2/notebooks/debug_env.ipynb#X10sZmlsZQ%3D%3D?line=4'>5</a>\u001b[0m     \u001b[39m.\u001b[39mwith_columns([\n\u001b[1;32m      <a href='vscode-notebook-cell:/home/dhruv/Projects/stock-prediction-2/notebooks/debug_env.ipynb#X10sZmlsZQ%3D%3D?line=5'>6</a>\u001b[0m         pl\u001b[39m.\u001b[39mlit(\u001b[39m10_000\u001b[39m)\u001b[39m.\u001b[39malias(\u001b[39m'\u001b[39m\u001b[39mAvailable_Amount\u001b[39m\u001b[39m'\u001b[39m)\n\u001b[1;32m      <a href='vscode-notebook-cell:/home/dhruv/Projects/stock-prediction-2/notebooks/debug_env.ipynb#X10sZmlsZQ%3D%3D?line=6'>7</a>\u001b[0m     ])\n\u001b[1;32m      <a href='vscode-notebook-cell:/home/dhruv/Projects/stock-prediction-2/notebooks/debug_env.ipynb#X10sZmlsZQ%3D%3D?line=7'>8</a>\u001b[0m     \u001b[39m.\u001b[39mwith_columns([\n\u001b[1;32m      <a href='vscode-notebook-cell:/home/dhruv/Projects/stock-prediction-2/notebooks/debug_env.ipynb#X10sZmlsZQ%3D%3D?line=8'>9</a>\u001b[0m         pl\u001b[39m.\u001b[39;49mwhen(pl\u001b[39m.\u001b[39;49mcol(\u001b[39m\"\u001b[39;49m\u001b[39mActions\u001b[39;49m\u001b[39m\"\u001b[39;49m)\u001b[39m==\u001b[39;49m\u001b[39m\"\u001b[39;49m\u001b[39mBUY\u001b[39;49m\u001b[39m\"\u001b[39;49m)\n\u001b[1;32m     <a href='vscode-notebook-cell:/home/dhruv/Projects/stock-prediction-2/notebooks/debug_env.ipynb#X10sZmlsZQ%3D%3D?line=9'>10</a>\u001b[0m         \u001b[39m.\u001b[39;49mthen(pl\u001b[39m.\u001b[39;49mcol(\u001b[39m'\u001b[39;49m\u001b[39mAvailable_Amount\u001b[39;49m\u001b[39m'\u001b[39;49m)\u001b[39m/\u001b[39;49m\u001b[39m/\u001b[39;49mpl\u001b[39m.\u001b[39;49mcol(\u001b[39m\"\u001b[39;49m\u001b[39mClose\u001b[39;49m\u001b[39m\"\u001b[39;49m))\n\u001b[0;32m---> <a href='vscode-notebook-cell:/home/dhruv/Projects/stock-prediction-2/notebooks/debug_env.ipynb#X10sZmlsZQ%3D%3D?line=10'>11</a>\u001b[0m         \u001b[39m.\u001b[39;49mthen(pl\u001b[39m.\u001b[39mcol(\u001b[39m\"\u001b[39m\u001b[39mAvailable_Amount\u001b[39m\u001b[39m\"\u001b[39m) \u001b[39m-\u001b[39m pl\u001b[39m.\u001b[39mcol(\u001b[39m'\u001b[39m\u001b[39mAvailable_Amount\u001b[39m\u001b[39m'\u001b[39m)\u001b[39m/\u001b[39m\u001b[39m/\u001b[39mpl\u001b[39m.\u001b[39mcol(\u001b[39m\"\u001b[39m\u001b[39mClose\u001b[39m\u001b[39m\"\u001b[39m))\n\u001b[1;32m     <a href='vscode-notebook-cell:/home/dhruv/Projects/stock-prediction-2/notebooks/debug_env.ipynb#X10sZmlsZQ%3D%3D?line=11'>12</a>\u001b[0m         \u001b[39m# .otherwise(0)\u001b[39;00m\n\u001b[1;32m     <a href='vscode-notebook-cell:/home/dhruv/Projects/stock-prediction-2/notebooks/debug_env.ipynb#X10sZmlsZQ%3D%3D?line=12'>13</a>\u001b[0m         \u001b[39m.\u001b[39malias(\u001b[39m\"\u001b[39m\u001b[39mShares_Holdings\u001b[39m\u001b[39m\"\u001b[39m)\n\u001b[1;32m     <a href='vscode-notebook-cell:/home/dhruv/Projects/stock-prediction-2/notebooks/debug_env.ipynb#X10sZmlsZQ%3D%3D?line=13'>14</a>\u001b[0m     ])\n\u001b[1;32m     <a href='vscode-notebook-cell:/home/dhruv/Projects/stock-prediction-2/notebooks/debug_env.ipynb#X10sZmlsZQ%3D%3D?line=14'>15</a>\u001b[0m )\n",
      "\u001b[0;31mAttributeError\u001b[0m: 'Then' object has no attribute 'then'"
     ]
    }
   ],
   "source": [
    "# backtest\n",
    "start_price = 10_000\n",
    "(\n",
    "    df.with_columns([pl.lit(10_000).alias(\"Available_Amount\")]).with_columns(\n",
    "        [\n",
    "            pl.when(pl.col(\"Actions\") == \"BUY\")\n",
    "            .then(pl.col(\"Available_Amount\") // pl.col(\"Close\"))\n",
    "            .then(\n",
    "                pl.col(\"Available_Amount\")\n",
    "                - pl.col(\"Available_Amount\") // pl.col(\"Close\")\n",
    "            )\n",
    "            # .otherwise(0)\n",
    "            .alias(\"Shares_Holdings\")\n",
    "        ]\n",
    "    )\n",
    ")"
   ]
  },
  {
   "cell_type": "code",
   "execution_count": null,
   "metadata": {},
   "outputs": [],
   "source": [
    "# Attempting to buy without sufficient funds.\n",
    "if predicted_action == \"BUY\" and close_price > available_amount\n",
    "\n",
    "# Attempting to sell when no shares are held.\n",
    "elif predicted_action == \"SELL\" and shares_holding == 0\n",
    "\n",
    "# Buying Within Budget Good\n",
    "elif predicted_action == \"BUY\" and close_price <= available_amount and close_price < average_past_n_prices\n",
    "\n",
    "# Buying Within Budget BAD\n",
    "elif predicted_action == \"BUY\" and close_price <= available_amount and close_price >= average_past_n_prices\n",
    "\n",
    "# Checking for Profitable Sale\n",
    "elif predicted_action == \"SELL\" and shares_holding > 0 and close_price > buy_price\n",
    "\n",
    "# Avoiding Sale at a Loss\n",
    "elif predicted_action == \"SELL\" and shares_holding > 0 and close_price <= buy_price\n",
    "\n",
    "# Missed Good Buying Opportunity\n",
    "elif predicted_action == \"HOLD\" and shares_holding == 0 and (close_price < holding_threshold)\n",
    "\n",
    "# Correct Decision to Not Buy\n",
    "elif predicted_action == \"HOLD\" and shares_holding == 0 and (close_price >= holding_threshold)\n",
    "\n",
    "\n",
    "# Holding with shares (Profit)\n",
    "elif predicted_action == \"HOLD\" and shares_holding > 0 and close_price >= buy_price\n",
    "\n",
    "# Holding with shares (Loss)\n",
    "elif predicted_action == \"HOLD\" and shares_holding > 0 and close_price < buy_price\n"
   ]
  },
  {
   "cell_type": "code",
   "execution_count": 12,
   "metadata": {},
   "outputs": [
    {
     "data": {
      "text/plain": [
       "<xlsxwriter.workbook.Workbook at 0x7fca6f467990>"
      ]
     },
     "execution_count": 12,
     "metadata": {},
     "output_type": "execute_result"
    }
   ],
   "source": [
    "import json\n",
    "from pathlib import Path\n",
    "import polars as pl\n",
    "\n",
    "json_data = json.loads(Path(\"../logs/single_stock_trading_past_n_price_portfolio_reward_a2c/1024000\").read_text())\n",
    "\n",
    "pl.DataFrame(json_data).write_excel(\"../results/eval_results_a2c.xlsx\")"
   ]
  },
  {
   "cell_type": "code",
   "execution_count": null,
   "metadata": {},
   "outputs": [],
   "source": []
  },
  {
   "cell_type": "code",
   "execution_count": null,
   "metadata": {},
   "outputs": [],
   "source": []
  }
 ],
 "metadata": {
  "kernelspec": {
   "display_name": "Python 3",
   "language": "python",
   "name": "python3"
  },
  "language_info": {
   "codemirror_mode": {
    "name": "ipython",
    "version": 3
   },
   "file_extension": ".py",
   "mimetype": "text/x-python",
   "name": "python",
   "nbconvert_exporter": "python",
   "pygments_lexer": "ipython3",
   "version": "3.11.6"
  }
 },
 "nbformat": 4,
 "nbformat_minor": 2
}
