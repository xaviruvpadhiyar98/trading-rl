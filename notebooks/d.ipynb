{
 "cells": [
  {
   "cell_type": "code",
   "execution_count": 18,
   "metadata": {},
   "outputs": [],
   "source": [
    "import sys\n",
    "\n",
    "sys.path.append(\"../\")\n",
    "from pathlib import Path\n",
    "import polars as pl\n",
    "from stable_baselines3 import PPO\n",
    "from stable_baselines3.common.env_checker import check_env\n",
    "\n",
    "from common.make_vec_env import make_vec_env\n",
    "from envs.single_stock_trading_reward_only_at_sell import StockTradingEnv"
   ]
  },
  {
   "cell_type": "code",
   "execution_count": 13,
   "metadata": {},
   "outputs": [],
   "source": [
    "%reload_ext autoreload\n",
    "%autoreload 2"
   ]
  },
  {
   "cell_type": "code",
   "execution_count": 14,
   "metadata": {},
   "outputs": [],
   "source": [
    "TICKER = \"SBIN.NS\"\n",
    "TRAIN_FILE = Path(\"../datasets\") / f\"{TICKER}_train\"\n",
    "EVAL_FILE = Path(\"datasets\") / f\"{TICKER}_trade\""
   ]
  },
  {
   "cell_type": "code",
   "execution_count": 15,
   "metadata": {},
   "outputs": [],
   "source": [
    "import numpy as np\n",
    "import polars as pl\n",
    "from pathlib import Path\n",
    "\n",
    "def load_close_prices(TICKER):\n",
    "    TRAIN_FILE = Path(\"../datasets\") / f\"{TICKER}\"\n",
    "\n",
    "    CLOSE_PRICES = np.array(\n",
    "        pl\n",
    "        .read_parquet(TRAIN_FILE)\n",
    "        .with_columns(index=pl.int_range(0, end=pl.count(), eager=False))\n",
    "        .sort(\"index\")\n",
    "        .set_sorted(\"index\")\n",
    "        .group_by_dynamic(\n",
    "            \"index\", every=\"1i\", period=\"40i\", include_boundaries=True, closed=\"right\"\n",
    "        )\n",
    "        .agg(pl.col(\"Close\"))\n",
    "        .with_columns(pl.col(\"Close\").list.len().alias(\"Count\"))\n",
    "        .filter(pl.col(\"Count\") == 40)\n",
    "        [\"Close\"]\n",
    "        .to_list()\n",
    "    )\n",
    "    return CLOSE_PRICES\n",
    "\n",
    "TICKER = \"WHIRLPOOL.NS\"\n",
    "CLOSE_PRICES = load_close_prices(TICKER)"
   ]
  },
  {
   "cell_type": "code",
   "execution_count": 42,
   "metadata": {},
   "outputs": [],
   "source": [
    "check_env(StockTradingEnv(CLOSE_PRICES, seed=0))"
   ]
  },
  {
   "cell_type": "code",
   "execution_count": 43,
   "metadata": {},
   "outputs": [
    {
     "data": {
      "text/plain": [
       "(array([ 0.0000000e+00,  2.4646499e+03,  2.4814500e+03,  2.5205500e+03,\n",
       "         2.5099500e+03,  2.5145500e+03,  2.5088999e+03,  2.5118501e+03,\n",
       "         2.4850000e+03,  2.4623000e+03,  2.4597000e+03,  2.4540500e+03,\n",
       "         2.4569500e+03,  2.4692500e+03,  2.4719500e+03,  2.4890000e+03,\n",
       "         2.4828501e+03,  2.4750000e+03,  2.4662000e+03,  2.4500000e+03,\n",
       "         2.4423999e+03,  2.4353999e+03,  2.4407000e+03,  2.4358999e+03,\n",
       "         2.4340000e+03,  2.4389500e+03,  2.3910000e+03,  2.4107500e+03,\n",
       "         2.4221001e+03,  2.3888000e+03,  2.3800000e+03,  2.3750000e+03,\n",
       "         2.3690000e+03,  2.4250000e+03,  2.4750500e+03,  2.4780500e+03,\n",
       "         2.4925500e+03,  2.5114500e+03,  2.5066499e+03,  2.5090500e+03,\n",
       "         2.5190000e+03,  9.8977203e+01,  1.0227966e+00,  0.0000000e+00,\n",
       "         0.0000000e+00,  0.0000000e+00,  0.0000000e+00,  0.0000000e+00,\n",
       "         0.0000000e+00,  0.0000000e+00,  0.0000000e+00,  0.0000000e+00,\n",
       "         0.0000000e+00,  0.0000000e+00,  0.0000000e+00, -1.0000000e+00,\n",
       "         0.0000000e+00,  1.0000000e+04,  0.0000000e+00,  0.0000000e+00,\n",
       "         0.0000000e+00,  0.0000000e+00,  1.0000000e+04,  1.0000000e+04],\n",
       "       dtype=float32),\n",
       " {})"
      ]
     },
     "execution_count": 43,
     "metadata": {},
     "output_type": "execute_result"
    }
   ],
   "source": [
    "env = StockTradingEnv(CLOSE_PRICES, seed=0)\n",
    "obs, info = env.reset()\n",
    "obs, info"
   ]
  },
  {
   "cell_type": "code",
   "execution_count": 44,
   "metadata": {},
   "outputs": [
    {
     "data": {
      "text/plain": [
       "(0.0,\n",
       " array([2464.65, 2481.45, 2520.55, 2509.95, 2514.55, 2508.9 , 2511.85,\n",
       "        2485.  , 2462.3 , 2459.7 , 2454.05, 2456.95, 2469.25, 2471.95,\n",
       "        2489.  , 2482.85, 2475.  , 2466.2 , 2450.  , 2442.4 , 2435.4 ,\n",
       "        2440.7 , 2435.9 , 2434.  , 2438.95, 2391.  , 2410.75, 2422.1 ,\n",
       "        2388.8 , 2380.  , 2375.  , 2369.  , 2425.  , 2475.05, 2478.05,\n",
       "        2492.55, 2511.45, 2506.65, 2509.05, 2519.  ], dtype=float32))"
      ]
     },
     "execution_count": 44,
     "metadata": {},
     "output_type": "execute_result"
    }
   ],
   "source": [
    "obs[0], obs[1:41]"
   ]
  },
  {
   "cell_type": "code",
   "execution_count": 48,
   "metadata": {},
   "outputs": [
    {
     "data": {
      "text/plain": [
       "array([ 0.e+00, -1.e+00,  0.e+00,  1.e+04,  0.e+00,  0.e+00,  0.e+00,\n",
       "        0.e+00,  1.e+04,  1.e+04], dtype=float32)"
      ]
     },
     "execution_count": 48,
     "metadata": {},
     "output_type": "execute_result"
    }
   ],
   "source": [
    "obs[-10:]"
   ]
  },
  {
   "cell_type": "code",
   "execution_count": 17,
   "metadata": {},
   "outputs": [
    {
     "data": {
      "text/plain": [
       "(array([  457.65,   458.  ,   448.95,   447.4 ,   446.9 ,   447.4 ,\n",
       "          447.2 ,   446.9 ,   449.2 ,   460.  ,   459.4 ,   458.55,\n",
       "          463.45,   462.9 ,   462.8 ,   462.4 ,   465.75,   466.65,\n",
       "          470.45,   467.75,   464.  ,   460.55,   461.  ,   464.9 ,\n",
       "          462.95,   465.35,   462.2 ,   462.45,   461.65,   463.4 ,\n",
       "          461.55,   463.5 ,   458.65,   457.1 ,   458.2 ,   454.8 ,\n",
       "          454.1 ,   454.  ,   453.4 ,   453.35, 10000.  ,     0.  ,\n",
       "            0.  ,     0.  ,     0.  , 10000.  , 10000.  ], dtype=float32),\n",
       " {})"
      ]
     },
     "execution_count": 17,
     "metadata": {},
     "output_type": "execute_result"
    }
   ],
   "source": [
    "from envs.single_stock_trading_past_n_price_portfolio_reward_env import StockTradingEnv\n",
    "\n",
    "env = StockTradingEnv(CLOSE_PRICES, seed=0)\n",
    "obs, info = env.reset()\n",
    "obs, info"
   ]
  },
  {
   "cell_type": "code",
   "execution_count": 63,
   "metadata": {},
   "outputs": [
    {
     "data": {
      "text/plain": [
       "(45, 464.3, 0.0, 'HOLD', 100.0)"
      ]
     },
     "execution_count": 63,
     "metadata": {},
     "output_type": "execute_result"
    }
   ],
   "source": [
    "# {0: \"HOLD\", 1: \"BUY\", 2: \"SELL\"}\n",
    "s, r, d, t, i = env.step(0)\n",
    "i[\"counter\"], i[\"close_price\"], i[\"buy_price\"], i[\"predicted_action\"], r"
   ]
  },
  {
   "cell_type": "code",
   "execution_count": 71,
   "metadata": {},
   "outputs": [
    {
     "data": {
      "text/plain": [
       "10370.4"
      ]
     },
     "execution_count": 71,
     "metadata": {},
     "output_type": "execute_result"
    }
   ],
   "source": [
    "470.2 * 22 + 26"
   ]
  },
  {
   "cell_type": "code",
   "execution_count": 114,
   "metadata": {},
   "outputs": [
    {
     "data": {
      "text/plain": [
       "{'seed': 0,\n",
       " 'counter': 33,\n",
       " 'close_price': 471.45,\n",
       " 'predicted_action': 'HOLD',\n",
       " 'description': '[+] Transaction #33: Profitable Holding. Shares Held: 22.0. Purchase Price per Share: ₹453.35. Current Share Price: ₹471.45. Profit/Loss: ₹398.2001953125 Holding Performance: Good Streak - 33, Bad Streak - 0. Reward Earned: ₹398.2001953125. Portfolio Value: ₹10398.2001953125.Portfolio Value Threshold: ₹10000.0.',\n",
       " 'available_amount': 26.299805,\n",
       " 'shares_holdings': 22.0,\n",
       " 'buy_price': 453.35,\n",
       " 'buy_price_index': 0,\n",
       " 'reward': 398.2001953125,\n",
       " 'done': False,\n",
       " 'truncated': False,\n",
       " 'correct_trade': 1,\n",
       " 'wrong_trade': 0,\n",
       " 'correct_trade %': 100.0,\n",
       " 'buy_counter': 1,\n",
       " 'sell_counter': 0,\n",
       " 'hold_counter': 33,\n",
       " 'good_hold_counter': 33,\n",
       " 'good_sell_counter': 0,\n",
       " 'good_buy_counter': 0,\n",
       " 'bad_hold_counter': 0,\n",
       " 'bad_sell_counter': 0,\n",
       " 'bad_buy_counter': 1,\n",
       " 'hold_with_no_shares_counter': 0,\n",
       " 'bad_holds_with_no_shares_counter': 0,\n",
       " 'good_holds_with_no_shares_counter': 0,\n",
       " 'good_hold_streak': 33,\n",
       " 'bad_hold_streak': 0,\n",
       " 'waiting_streak': 0,\n",
       " 'buy_counter %': 100.0,\n",
       " 'good_sell_counter %': 0,\n",
       " 'good_hold_counter %': 3300.0,\n",
       " 'bad_sell_counter %': 0,\n",
       " 'bad_hold_counter %': 0,\n",
       " 'holds_with_no_shares_counter %': 0,\n",
       " 'good_hold_profit': 12394.79296875,\n",
       " 'good_sell_profit': 0,\n",
       " 'good_buy_profit': 0,\n",
       " 'bad_hold_loss': 0,\n",
       " 'bad_sell_loss': 0,\n",
       " 'bad_buy_loss': 0,\n",
       " 'good_moves': 33,\n",
       " 'bad_moves': 0,\n",
       " 'good_moves %': 100.0,\n",
       " 'reward_tracker': 12252.75485785802,\n",
       " 'portfolio_value': 10398.2,\n",
       " 'portfolio_value_threshold': 10000.0,\n",
       " 'combined_hold_profit': 12394.79296875,\n",
       " 'combined_sell_profit': 0,\n",
       " 'combined_total_profit': 12394.79296875,\n",
       " 'combined_hold_streak': 33,\n",
       " 'track_portfolio': [{'counter': 0,\n",
       "   'buy_price': 453.35,\n",
       "   'shares_holding': 22.0}]}"
      ]
     },
     "execution_count": 114,
     "metadata": {},
     "output_type": "execute_result"
    }
   ],
   "source": [
    "i"
   ]
  },
  {
   "cell_type": "code",
   "execution_count": 53,
   "metadata": {},
   "outputs": [
    {
     "data": {
      "text/plain": [
       "25.0"
      ]
     },
     "execution_count": 53,
     "metadata": {},
     "output_type": "execute_result"
    }
   ],
   "source": [
    "thresh = 20\n",
    "\n",
    "\n",
    "def simplified_reward(percentage_distance):\n",
    "    if percentage_distance <= thresh:\n",
    "        return 100 - (percentage_distance / thresh) * 100\n",
    "    else:\n",
    "        return -((percentage_distance - thresh) / thresh) * 100\n",
    "\n",
    "\n",
    "simplified_reward(15)"
   ]
  },
  {
   "cell_type": "code",
   "execution_count": null,
   "metadata": {},
   "outputs": [],
   "source": []
  }
 ],
 "metadata": {
  "kernelspec": {
   "display_name": "Python 3",
   "language": "python",
   "name": "python3"
  },
  "language_info": {
   "codemirror_mode": {
    "name": "ipython",
    "version": 3
   },
   "file_extension": ".py",
   "mimetype": "text/x-python",
   "name": "python",
   "nbconvert_exporter": "python",
   "pygments_lexer": "ipython3",
   "version": "3.11.6"
  }
 },
 "nbformat": 4,
 "nbformat_minor": 2
}
