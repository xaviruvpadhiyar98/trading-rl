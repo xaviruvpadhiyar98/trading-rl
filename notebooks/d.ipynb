{
 "cells": [
  {
   "cell_type": "code",
   "execution_count": 1,
   "metadata": {},
   "outputs": [],
   "source": [
    "\n",
    "import sys\n",
    "\n",
    "sys.path.append(\"../\")\n",
    "from pathlib import Path\n",
    "import polars as pl\n",
    "from stable_baselines3 import PPO\n",
    "from stable_baselines3.common.env_checker import check_env\n",
    "\n",
    "from common.make_vec_env import make_vec_env\n",
    "from envs.single_stock_trading_past_n_price_portfolio_reward_env import StockTradingEnv"
   ]
  },
  {
   "cell_type": "code",
   "execution_count": 2,
   "metadata": {},
   "outputs": [],
   "source": [
    "%reload_ext autoreload\n",
    "%autoreload 2"
   ]
  },
  {
   "cell_type": "code",
   "execution_count": 3,
   "metadata": {},
   "outputs": [],
   "source": [
    "TICKER = \"SBIN.NS\"\n",
    "TRAIN_FILE = Path(\"../datasets\") / f\"{TICKER}_train\"\n",
    "EVAL_FILE = Path(\"datasets\") / f\"{TICKER}_trade\""
   ]
  },
  {
   "cell_type": "code",
   "execution_count": 4,
   "metadata": {},
   "outputs": [],
   "source": [
    "CLOSE_PRICES = (\n",
    "    pl\n",
    "    .read_parquet(TRAIN_FILE)\n",
    "    .with_columns(index=pl.int_range(0, end=pl.count()))\n",
    "    .sort(\"index\")\n",
    "    .set_sorted(\"index\")\n",
    "    .group_by_dynamic(\n",
    "        \"index\", every=\"1i\", period=\"40i\", include_boundaries=True, closed=\"right\"\n",
    "    )\n",
    "    .agg(pl.col(\"Close\"))\n",
    "    .with_columns(pl.col(\"Close\").list.len().alias(\"Count\"))\n",
    "    .filter(pl.col(\"Count\") == 40)[\"Close\"]\n",
    "    .to_numpy()\n",
    ")\n"
   ]
  },
  {
   "cell_type": "code",
   "execution_count": 5,
   "metadata": {},
   "outputs": [],
   "source": [
    "check_env(StockTradingEnv(CLOSE_PRICES, seed=0))"
   ]
  },
  {
   "cell_type": "code",
   "execution_count": 79,
   "metadata": {},
   "outputs": [
    {
     "data": {
      "text/plain": [
       "(array([  457.65,   458.  ,   448.95,   447.4 ,   446.9 ,   447.4 ,\n",
       "          447.2 ,   446.9 ,   449.2 ,   460.  ,   459.4 ,   458.55,\n",
       "          463.45,   462.9 ,   462.8 ,   462.4 ,   465.75,   466.65,\n",
       "          470.45,   467.75,   464.  ,   460.55,   461.  ,   464.9 ,\n",
       "          462.95,   465.35,   462.2 ,   462.45,   461.65,   463.4 ,\n",
       "          461.55,   463.5 ,   458.65,   457.1 ,   458.2 ,   454.8 ,\n",
       "          454.1 ,   454.  ,   453.4 ,   453.35, 10000.  ,     0.  ,\n",
       "            0.  ,     0.  ,     0.  , 10000.  , 10000.  ], dtype=float32),\n",
       " {})"
      ]
     },
     "execution_count": 79,
     "metadata": {},
     "output_type": "execute_result"
    }
   ],
   "source": [
    "from envs.single_stock_trading_past_n_price_portfolio_reward_env import StockTradingEnv\n",
    "env = StockTradingEnv(CLOSE_PRICES, seed=0)\n",
    "obs, info = env.reset()\n",
    "obs, info"
   ]
  },
  {
   "cell_type": "code",
   "execution_count": 164,
   "metadata": {},
   "outputs": [
    {
     "data": {
      "text/plain": [
       "(83, 446.2, 453.35, 'HOLD', -157.2998046875)"
      ]
     },
     "execution_count": 164,
     "metadata": {},
     "output_type": "execute_result"
    }
   ],
   "source": [
    "#{0: \"HOLD\", 1: \"BUY\", 2: \"SELL\"}\n",
    "s, r, d, t, i = env.step(0)\n",
    "i['counter'], i['close_price'], i['buy_price'], i['predicted_action'], r"
   ]
  },
  {
   "cell_type": "code",
   "execution_count": 71,
   "metadata": {},
   "outputs": [
    {
     "data": {
      "text/plain": [
       "10370.4"
      ]
     },
     "execution_count": 71,
     "metadata": {},
     "output_type": "execute_result"
    }
   ],
   "source": [
    "470.2 * 22 + 26"
   ]
  },
  {
   "cell_type": "code",
   "execution_count": 114,
   "metadata": {},
   "outputs": [
    {
     "data": {
      "text/plain": [
       "{'seed': 0,\n",
       " 'counter': 33,\n",
       " 'close_price': 471.45,\n",
       " 'predicted_action': 'HOLD',\n",
       " 'description': '[+] Transaction #33: Profitable Holding. Shares Held: 22.0. Purchase Price per Share: ₹453.35. Current Share Price: ₹471.45. Profit/Loss: ₹398.2001953125 Holding Performance: Good Streak - 33, Bad Streak - 0. Reward Earned: ₹398.2001953125. Portfolio Value: ₹10398.2001953125.Portfolio Value Threshold: ₹10000.0.',\n",
       " 'available_amount': 26.299805,\n",
       " 'shares_holdings': 22.0,\n",
       " 'buy_price': 453.35,\n",
       " 'buy_price_index': 0,\n",
       " 'reward': 398.2001953125,\n",
       " 'done': False,\n",
       " 'truncated': False,\n",
       " 'correct_trade': 1,\n",
       " 'wrong_trade': 0,\n",
       " 'correct_trade %': 100.0,\n",
       " 'buy_counter': 1,\n",
       " 'sell_counter': 0,\n",
       " 'hold_counter': 33,\n",
       " 'good_hold_counter': 33,\n",
       " 'good_sell_counter': 0,\n",
       " 'good_buy_counter': 0,\n",
       " 'bad_hold_counter': 0,\n",
       " 'bad_sell_counter': 0,\n",
       " 'bad_buy_counter': 1,\n",
       " 'hold_with_no_shares_counter': 0,\n",
       " 'bad_holds_with_no_shares_counter': 0,\n",
       " 'good_holds_with_no_shares_counter': 0,\n",
       " 'good_hold_streak': 33,\n",
       " 'bad_hold_streak': 0,\n",
       " 'waiting_streak': 0,\n",
       " 'buy_counter %': 100.0,\n",
       " 'good_sell_counter %': 0,\n",
       " 'good_hold_counter %': 3300.0,\n",
       " 'bad_sell_counter %': 0,\n",
       " 'bad_hold_counter %': 0,\n",
       " 'holds_with_no_shares_counter %': 0,\n",
       " 'good_hold_profit': 12394.79296875,\n",
       " 'good_sell_profit': 0,\n",
       " 'good_buy_profit': 0,\n",
       " 'bad_hold_loss': 0,\n",
       " 'bad_sell_loss': 0,\n",
       " 'bad_buy_loss': 0,\n",
       " 'good_moves': 33,\n",
       " 'bad_moves': 0,\n",
       " 'good_moves %': 100.0,\n",
       " 'reward_tracker': 12252.75485785802,\n",
       " 'portfolio_value': 10398.2,\n",
       " 'portfolio_value_threshold': 10000.0,\n",
       " 'combined_hold_profit': 12394.79296875,\n",
       " 'combined_sell_profit': 0,\n",
       " 'combined_total_profit': 12394.79296875,\n",
       " 'combined_hold_streak': 33,\n",
       " 'track_portfolio': [{'counter': 0,\n",
       "   'buy_price': 453.35,\n",
       "   'shares_holding': 22.0}]}"
      ]
     },
     "execution_count": 114,
     "metadata": {},
     "output_type": "execute_result"
    }
   ],
   "source": [
    "i"
   ]
  },
  {
   "cell_type": "code",
   "execution_count": 53,
   "metadata": {},
   "outputs": [
    {
     "data": {
      "text/plain": [
       "25.0"
      ]
     },
     "execution_count": 53,
     "metadata": {},
     "output_type": "execute_result"
    }
   ],
   "source": [
    "thresh = 20\n",
    "def simplified_reward(percentage_distance):\n",
    "    if percentage_distance <= thresh:\n",
    "        return 100 - (percentage_distance / thresh) * 100\n",
    "    else:\n",
    "        return -((percentage_distance - thresh) / thresh) * 100\n",
    "    \n",
    "\n",
    "simplified_reward(15)"
   ]
  },
  {
   "cell_type": "code",
   "execution_count": null,
   "metadata": {},
   "outputs": [],
   "source": []
  }
 ],
 "metadata": {
  "kernelspec": {
   "display_name": "Python 3",
   "language": "python",
   "name": "python3"
  },
  "language_info": {
   "codemirror_mode": {
    "name": "ipython",
    "version": 3
   },
   "file_extension": ".py",
   "mimetype": "text/x-python",
   "name": "python",
   "nbconvert_exporter": "python",
   "pygments_lexer": "ipython3",
   "version": "3.11.6"
  }
 },
 "nbformat": 4,
 "nbformat_minor": 2
}
